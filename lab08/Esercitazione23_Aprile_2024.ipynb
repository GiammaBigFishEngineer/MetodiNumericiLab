{
 "cells": [
  {
   "cell_type": "markdown",
   "id": "d2903ef7-4c36-4b4f-b8dd-01fa2f35dfc5",
   "metadata": {},
   "source": [
    "## Esercitazione 8  del    23 Aprile 2024\n"
   ]
  },
  {
   "cell_type": "markdown",
   "id": "f7105091-a87d-4561-bb63-c8ac815faf37",
   "metadata": {},
   "source": [
    "## Condizionamento del problema della soluzione di un sistema lineare"
   ]
  },
  {
   "cell_type": "markdown",
   "id": "2b2f0afd-9374-4f8e-8a7b-eb783ba28fd4",
   "metadata": {},
   "source": [
    "# Esercizio 1\n",
    "- Costruire la matrice di Vandermonde A, generata dal vettore x=[1.0,2.0,...,6.0] utilizzando la funzione np.vander(x, increasing=True) di numpy. \n",
    "- Calcolarne l'indice di condizionamento in norma infinito senza utilizzare la funzione cond di numpy.linalg e poi confrontarne il valore con quello ottenuto utilizzando la funzione.\n",
    "- Considerare il sistema lineare Ax=b  con matrice dei coefficienti A e termine noto costruito in maniera tale che la soluzione esatta sia il vettore x=[1,1,1,1,1,1] (ogni sua componente è 1) e risolverlo usando il metodo solve del modulo linalg di Scipy.\n",
    "- perturbare il vettore dei termini noti della quantità\n",
    "- \n",
    "$$\n",
    "\\delta b = 0.025 \\, \\ast \\,\n",
    "\\left [\n",
    "\\begin{array}{c}\n",
    "1\\\\\n",
    "0\\\\\n",
    "0\\\\\n",
    "0\n",
    "\\end{array}\n",
    "\\right ]\n",
    "$$\n",
    "- Risolvere il sistema con termine noto pertubato $b + \\delta b$ ((usando il metodo solve del modulo linalg di Scipy).\n",
    "- Calcolare l'errore relativo sul termine noto e l'errore relativo sulla soluzione. Cosa si può concludere?\n",
    "\n",
    "N.B. per il calcolo dell'inversa della matrice di A usare la funzione di numpy.linalg.inv(A).\n"
   ]
  },
  {
   "cell_type": "code",
   "execution_count": 1,
   "id": "7b3127fa-00d1-4d24-bf76-f512e44bc40a",
   "metadata": {
    "tags": []
   },
   "outputs": [
    {
     "name": "stdout",
     "output_type": "stream",
     "text": [
      "[[1.000e+00 1.000e+00 1.000e+00 1.000e+00 1.000e+00 1.000e+00]\n",
      " [1.000e+00 2.000e+00 4.000e+00 8.000e+00 1.600e+01 3.200e+01]\n",
      " [1.000e+00 3.000e+00 9.000e+00 2.700e+01 8.100e+01 2.430e+02]\n",
      " [1.000e+00 4.000e+00 1.600e+01 6.400e+01 2.560e+02 1.024e+03]\n",
      " [1.000e+00 5.000e+00 2.500e+01 1.250e+02 6.250e+02 3.125e+03]\n",
      " [1.000e+00 6.000e+00 3.600e+01 2.160e+02 1.296e+03 7.776e+03]]\n",
      "L'indice di condizionamento è 1204321.0666666434\n",
      "Numpy calcola come indice di condizionamento: 1204321.0666666434\n",
      "I termini noti costruiti sono:\n",
      " [[6.000e+00]\n",
      " [6.300e+01]\n",
      " [3.640e+02]\n",
      " [1.365e+03]\n",
      " [3.906e+03]\n",
      " [9.331e+03]]\n",
      "Il risultato è:\n",
      " [[1.]\n",
      " [1.]\n",
      " [1.]\n",
      " [1.]\n",
      " [1.]\n",
      " [1.]]\n",
      "L'errore dati è:\n",
      " 0.0006269424498981888\n",
      "Nuova soluzione perturbata:\n",
      " [[-3.41000e+01]\n",
      " [ 5.18950e+01]\n",
      " [-2.72750e+01]\n",
      " [ 8.55625e+00]\n",
      " [ 2.50000e-02]\n",
      " [ 1.04875e+00]]\n",
      "L'errore sulla soluzione è:\n",
      " 0.5089499999997762\n"
     ]
    }
   ],
   "source": [
    "import numpy as np\n",
    "import scipy.linalg as spl\n",
    "import numpy.linalg as npl\n",
    "\n",
    "x = np.array([1.0,2.0,3.0,4.0,5.0,6.0])\n",
    "V = np.vander(x, increasing=True)\n",
    "print(V)\n",
    "#Calcolo indice di condizionamento, dovrebbe venire mal condizionato siccome Vandermonde è una matrice mal condizionato => K > 10^3\n",
    "\n",
    "def norm_inf(A):\n",
    "    somma_righe = [np.sum(np.abs(row)) for row in A]\n",
    "    return max(somma_righe)\n",
    "norm_V = norm_inf(V)\n",
    "#Calcolo dell'inversa attraverso fattorizazione LU\n",
    "\n",
    "norm_inv_V = norm_inf(npl.inv(V))\n",
    "K = norm_V * norm_inv_V\n",
    "print(\"L'indice di condizionamento è\", K)\n",
    "print(\"Numpy calcola come indice di condizionamento:\", npl.cond(V,np.inf))\n",
    "#K = numpy.linalg.cond(A,np.inf) è l'indice di condizionamento in norma infinito\n",
    "\n",
    "#Costruisco il vettore di termine noto vale che Ax=b con x = [1,1,1,1,1,1]\n",
    "b = np.sum(V,axis=1).reshape(6,1)\n",
    "print(\"I termini noti costruiti sono:\\n\", b)\n",
    "x = spl.solve(V,b)\n",
    "print(\"Il risultato è:\\n\",x)\n",
    "\n",
    "\n",
    "delta_b = b.copy()\n",
    "delta_b[0] = delta_b[0] * 0.025\n",
    "errore_dati = npl.norm(delta_b - b, np.inf) / npl.norm(b, np.inf)\n",
    "print(\"L'errore dati è:\\n\", errore_dati)\n",
    "#scipy.linalg.solve(A,b) prende in input la matrice A ed il termine noto b per risolvere il sistema\n",
    "\n",
    "xp = spl.solve(V,delta_b)\n",
    "errore_soluzione = npl.norm(xp-x,np.inf)/npl.norm(x, np.inf)\n",
    "print(\"Nuova soluzione perturbata:\\n\",xp)\n",
    "print(\"L'errore sulla soluzione è:\\n\",errore_soluzione/100)"
   ]
  },
  {
   "cell_type": "markdown",
   "id": "1fad1579-04c4-4aae-a840-2ab3120aaf2e",
   "metadata": {},
   "source": [
    "## Esercizio 2\n",
    "Assegnato il sistema lineare $Ax = b$, con\n",
    "$$\n",
    "A =\n",
    "\\left [\n",
    "\\begin{array}{ccc}\n",
    "6 & 63 & 662.2\\\\\n",
    "63 & 662.2 & 6967.8\\\\\n",
    "662.2 & 6967.8 & 73393.5664\n",
    "\\end{array}\n",
    "\\right ], \\qquad\n",
    "b =\n",
    "\\left [\n",
    "\\begin{array}{c}\n",
    "1.1\\\\\n",
    "2.33\\\\\n",
    "1.7\n",
    "\\end{array}\n",
    "\\right ]\n",
    "$$\n",
    "- trovare il vettore soluzione $x$ (usando il metodo solve del modulo linalg di Scipy);\n",
    "- perturbare la matrice dei coefficienti della quantità\n",
    "$$\n",
    "\\delta A =\n",
    "0.01 \\, \\ast \\,\n",
    "\\left [ \\begin{array}{ccc}\n",
    "1 & 0 & 0\\\\\n",
    "0 & 0 & 0\\\\\n",
    "0 & 0 & 0\n",
    "\\end{array}\n",
    "\\right ]\n",
    "$$\n",
    "quindi calcolare l'errore relativo sulla soluzione e confrontarlo con la\n",
    "perturbazione relativa sui dati di ingresso. Cosa si osserva?"
   ]
  },
  {
   "cell_type": "code",
   "execution_count": 2,
   "id": "df1328c8-0a57-46aa-906c-876ccf3b91a8",
   "metadata": {
    "tags": []
   },
   "outputs": [
    {
     "name": "stdout",
     "output_type": "stream",
     "text": [
      "Nuova soluzione perturbata:\n",
      " [[-0.11301641]\n",
      " [ 3.14341101]\n",
      " [-0.29738465]]\n",
      "L'errore sulla soluzione è:\n",
      " 0.010000008284303787\n"
     ]
    }
   ],
   "source": [
    "A = np.array([\n",
    "    [6, 63, 662.2],\n",
    "    [63, 662.2, 6967.8],\n",
    "    [662.2, 6967.8, 73393.5664]\n",
    "])\n",
    "b = np.array([1.1, 2.33, 1.7]).reshape(3,1)\n",
    "x = npl.solve(A,b)\n",
    "dA = A.copy()\n",
    "dA[0][0] = dA[0][0]*0.01\n",
    "\n",
    "xp = npl.solve(dA, b)\n",
    "errore_soluzione = npl.norm(xp-x,np.inf)/npl.norm(x, np.inf)\n",
    "print(\"Nuova soluzione perturbata:\\n\",xp)\n",
    "print(\"L'errore sulla soluzione è:\\n\",errore_soluzione/100)\n",
    "\n",
    "\n"
   ]
  },
  {
   "cell_type": "markdown",
   "id": "3fd35cbb-3eaa-4674-91ff-cf7148cac8b8",
   "metadata": {},
   "source": [
    "## Esercizio 3\n",
    " \n",
    "Assegnato il sistema lineare $Ax = b$, con $A$ matrice di Hilbert di ordine\n",
    "$4$ e $b = [1, 1, 1, 1]^T$,\n",
    " - trovare il vettore soluzione $x$ (usando il metodo solve del modulo linalg di Scipy);\n",
    " -  perturbare il vettore dei termini noti della quantità\n",
    "$$\n",
    "\\delta b = 0.01 \\, \\ast \\,\n",
    "\\left [\n",
    "\\begin{array}{c}\n",
    "1\\\\\n",
    "-1\\\\\n",
    "1\\\\\n",
    "-1\n",
    "\\end{array}\n",
    "\\right ]\n",
    "$$\n",
    "quindi calcolare la soluzione del sistema $A x_p= b_p$ con termine noto $b_p=b+ \\delta b$.\n",
    "Calcolare l'errore relativo sulla soluzione e confrontarlo con la perturbazione relativa sui dati di ingresso. Cosa si osserva?\n",
    "\n",
    "Nota: per la costruzione della matrice di Hilbert usare la funzione hilbert(n) del modulo scipy.linalg\n",
    "(scipy.linalg.hilbert(n))  dove bisogna specificare l'ordine n della matrice."
   ]
  },
  {
   "cell_type": "code",
   "execution_count": 3,
   "id": "9a8fa467-1368-490f-9d81-0d1a146465ef",
   "metadata": {
    "tags": []
   },
   "outputs": [
    {
     "name": "stdout",
     "output_type": "stream",
     "text": [
      "[[  -4.]\n",
      " [  60.]\n",
      " [-180.]\n",
      " [ 140.]]\n",
      "Nuovo risultato perturbato:\n",
      " [[  1.16]\n",
      " [  3.  ]\n",
      " [-43.8 ]\n",
      " [ 51.8 ]]\n",
      "Errore sui dati:\n",
      " 0.7566666666666719\n",
      "28374.99999999729\n"
     ]
    }
   ],
   "source": [
    "\n",
    "A = spl.hilbert(4)\n",
    "b = np.array([1,1,1,1]).reshape(4,1)\n",
    "x = npl.solve(A,b)\n",
    "print(x)\n",
    "db = 0.01 * np.array([1.0,-1.0,1.0,-1.0]).reshape(4,1)\n",
    "b = b + db\n",
    "xp = npl.solve(A,b)\n",
    "print(\"Nuovo risultato perturbato:\\n\",xp)\n",
    "errore_soluzione = npl.norm(xp-x,np.inf)/npl.norm(x, np.inf)\n",
    "print(\"Errore sui dati:\\n\",errore_soluzione)\n",
    "\n",
    "K = npl.norm(A, np.inf) * npl.norm(npl.inv(A), np.inf)\n",
    "print(K)"
   ]
  },
  {
   "cell_type": "markdown",
   "id": "b1d646aa-f01a-4754-85e0-8803dc40b54f",
   "metadata": {},
   "source": [
    "## Metodi diretti per la soluzione numerica di un sistema lineare"
   ]
  },
  {
   "cell_type": "markdown",
   "id": "d49457b8-af07-4729-a33a-dc93547c1a20",
   "metadata": {},
   "source": [
    "## Nota 1.\n",
    "La funzione *scipy.linalg.lu(A)*  , presa in input una matrice A a rango massimo, restituisce in output le matrici $P^T$,L,U,  della fattorizzazione di LU della matrice A in maniera tale che PA=LU (restituisce la matrice di permutazione trasposta)"
   ]
  },
  {
   "cell_type": "code",
   "execution_count": 4,
   "id": "6164dfcc-4ff8-4d35-9ba3-59cae1f5189e",
   "metadata": {},
   "outputs": [
    {
     "name": "stdout",
     "output_type": "stream",
     "text": [
      "A= [[2 1]\n",
      " [3 4]]\n",
      "L= [[1.         0.        ]\n",
      " [0.66666667 1.        ]]\n",
      "U= [[ 3.          4.        ]\n",
      " [ 0.         -1.66666667]]\n",
      "P= [[0. 1.]\n",
      " [1. 0.]]\n",
      "Matrice P*A \n",
      " [[3. 4.]\n",
      " [2. 1.]]\n",
      "Matrice ottenuta moltipicando Le ed U \n",
      " [[3. 4.]\n",
      " [2. 1.]]\n"
     ]
    }
   ],
   "source": [
    "import numpy as np\n",
    "import scipy as sp\n",
    "from scipy.linalg import lu\n",
    "A=np.array([[2,1],[3,4]])\n",
    "PT,L,U=lu(A)  #Restituisce in output la trasposta della matrice di Permutazione\n",
    "P=PT.T.copy()   #P è la matrice di permutazione\n",
    "print(\"A=\",A)\n",
    "print(\"L=\",L)\n",
    "print(\"U=\",U)\n",
    "print(\"P=\",P)\n",
    "#LU è la fattorizzazione di P*A (terorema 2)\n",
    "A1=P@A # equivale al prodotto matrice x matrice np.dot(P,A)\n",
    "A1Fatt=L@U # equivale a np.dot(L,U)\n",
    "print(\"Matrice P*A \\n\", A1)\n",
    "print(\"Matrice ottenuta moltipicando Le ed U \\n\",A1Fatt)\n"
   ]
  },
  {
   "cell_type": "markdown",
   "id": "76f8f316-d9af-4596-9eed-5aa64f913f1f",
   "metadata": {},
   "source": [
    "## Nota 2\n",
    "La funzione *scipy.linalg.cholesky(a, lower=True)*, presa in input una matrice simmetrica e definta positiva restituisce in output la matrice L triangolare inferiore tale che $A=L \\cdot L^T$. Se la matrice in input non è definita positiva, restituisce un errore."
   ]
  },
  {
   "cell_type": "code",
   "execution_count": 5,
   "id": "162e3ab4-4a37-43d4-9727-6f032595449f",
   "metadata": {},
   "outputs": [
    {
     "name": "stdout",
     "output_type": "stream",
     "text": [
      "[[ 2  1  3]\n",
      " [ 1  5  7]\n",
      " [ 3  7 12]]\n"
     ]
    }
   ],
   "source": [
    "from scipy.linalg import cholesky\n",
    "A=np.array([[2,1,3],[1,5,7],[3,7,12]])\n",
    "print(A)"
   ]
  },
  {
   "cell_type": "code",
   "execution_count": 6,
   "id": "96fd572b-f470-4436-aea2-0bb5da4fdd23",
   "metadata": {},
   "outputs": [
    {
     "name": "stdout",
     "output_type": "stream",
     "text": [
      "[[1.41421356 0.         0.        ]\n",
      " [0.70710678 2.12132034 0.        ]\n",
      " [2.12132034 2.59272486 0.8819171 ]]\n",
      "A1=\n",
      " [[ 2.  1.  3.]\n",
      " [ 1.  5.  7.]\n",
      " [ 3.  7. 12.]]\n"
     ]
    }
   ],
   "source": [
    "L=cholesky(A,lower=True)\n",
    "print(L)\n",
    "A1=L@L.T\n",
    "print(\"A1=\\n\",A1)"
   ]
  },
  {
   "cell_type": "markdown",
   "id": "6760f2a0-ffec-49a1-96f7-ed643109e4d7",
   "metadata": {},
   "source": [
    "## Nota 3\n",
    "La funzione *scipy.linalg.qr(a)*, presa in input una matrice A (nxn)  a rango massimo, restituisce in output le matrici Q (ortogonale di dimensione nxn) ed una matrice R (nxn) triangolare superiore tale che $A=Q \\cdot R$"
   ]
  },
  {
   "cell_type": "code",
   "execution_count": 7,
   "id": "e336d0a6-f2c3-4a7b-a8e3-871e70ca917c",
   "metadata": {},
   "outputs": [
    {
     "name": "stdout",
     "output_type": "stream",
     "text": [
      "Q= [[-0.53452248  0.6882472  -0.49051147]\n",
      " [-0.26726124 -0.6882472  -0.67445327]\n",
      " [-0.80178373 -0.22941573  0.55182541]]\n",
      "R= [[ -3.74165739  -7.48331477 -13.09580085]\n",
      " [  0.          -4.35889894  -5.50597761]\n",
      " [  0.           0.           0.42919754]]\n",
      "[[ 2.  1.  3.]\n",
      " [ 1.  5.  7.]\n",
      " [ 3.  7. 12.]]\n"
     ]
    }
   ],
   "source": [
    "from scipy.linalg import qr\n",
    "A=np.array([[2,1,3],[1,5,7],[3,7,12]])\n",
    "Q,R=qr(A)\n",
    "print(\"Q=\",Q)\n",
    "print(\"R=\",R)\n",
    "A1=Q@R\n",
    "print(A1)"
   ]
  },
  {
   "cell_type": "markdown",
   "id": "270ae20e-08a7-4ab4-a710-c4541a398ec1",
   "metadata": {},
   "source": [
    "## Esercizio 4\n",
    "- si implementi una function LUsolve(P,A,L,U,b) che risolve il sistema lineare Ax=b nel caso di fattorizzazione $PA = LU$ assegnata,\n",
    "combinando i metodi di risoluzione in avanti ed all'indietro  implementati nel file SolveTriangular.py.\n",
    "- si testi sulla matrice A = np.array([[2, 5, 8, 7], [5, 2, 2, 8], [7, 5, 6, 6], [5, 4, 4, 8]]) con termine noto b scelto in maniera tale che la soluzione esatta del sistema lineare sia il vettore formato da tutti 1."
   ]
  },
  {
   "cell_type": "code",
   "execution_count": 8,
   "id": "9253cf2b-6d92-41ab-ae8b-6103d6b4a30b",
   "metadata": {
    "tags": []
   },
   "outputs": [
    {
     "name": "stdout",
     "output_type": "stream",
     "text": [
      "Il risultato è x:\n",
      " [[1.]\n",
      " [1.]\n",
      " [1.]\n",
      " [1.]]\n"
     ]
    }
   ],
   "source": [
    "from SolveTriangular import *\n",
    "\n",
    "def LUsolve(P, L, U, b):\n",
    "    y,flag=Lsolve(L,P@b)\n",
    "    if flag == 1:\n",
    "        return None, flag\n",
    "    x,flag=Usolve(U,y)\n",
    "    return x, flag\n",
    "\n",
    "A = np.array([[2, 5, 8, 7], [5, 2, 2, 8], [7, 5, 6, 6], [5, 4, 4, 8]])\n",
    "b = np.sum(A,axis=1).reshape(4,1)\n",
    "PT,L,U = spl.lu(A)\n",
    "P = PT.T.copy()\n",
    "x, flag = LUsolve(P,L,U,b)\n",
    "print(\"Il risultato è x:\\n\",x)"
   ]
  },
  {
   "cell_type": "markdown",
   "id": "daa94c30-7b43-4ab5-896b-f2b2409a8a56",
   "metadata": {},
   "source": [
    "## Esercizio 5\n",
    "Si implementi una function *solve_nsis(A,B)* per il calcolo della soluzione di un generale sistema lineare $AX = B$, con $X, B$ matrici, che usi la fattorizzazione LU della matrice PA, per risolvere n sistemi lineari: aventi la stessa matrice dei coefficienti A e termine noto l'i-esima colonna della matrice B. \n",
    "Utilizzarla poi per il calcolo dell'inversa delle\n",
    "matrici non singolari\n",
    "$$\n",
    "A=\\left[\n",
    "\\begin{array}{ccc}\n",
    "3 & 5 & 7\\\\\n",
    "2 & 3 & 4\\\\\n",
    "5 & 9 & 11\n",
    "\\end{array}\n",
    "\\right ], \\qquad\n",
    "A=\\left[\n",
    "\\begin{array}{cccc}\n",
    "1 & 2 & 3 & 4\\\\\n",
    "2 & -4 & 6 & 8\\\\\n",
    "-1 & -2 & -3 & -1\\\\\n",
    "5 & 7 & 0 & 1\n",
    "\\end{array}\n",
    "\\right ],\n",
    "$$\n",
    "confrontando i risultati ottenuti con l'output\n",
    "della funzione  *scipy.linalg.inv(A)*"
   ]
  },
  {
   "cell_type": "code",
   "execution_count": 9,
   "id": "1dbd1cac-2b75-4471-af1d-661ea3d830cf",
   "metadata": {
    "tags": []
   },
   "outputs": [
    {
     "name": "stdout",
     "output_type": "stream",
     "text": [
      "[[0. 0. 0.]\n",
      " [0. 0. 0.]\n",
      " [0. 0. 0.]]\n",
      "[[-1.5  4.  -0.5]\n",
      " [-1.  -1.   1. ]\n",
      " [ 1.5 -1.  -0.5]]\n"
     ]
    }
   ],
   "source": [
    "def solvensis(A,B):\n",
    "    PT,L,U = spl.lu(A)\n",
    "    P = PT.T.copy()\n",
    "    X = np.zeros((3,3))\n",
    "    print(X)\n",
    "    for i in range(0, A.shape[0]):\n",
    "        ris = LUsolve(P, L, U, B[:,i])\n",
    "        A[:,i] = ris[0].ravel()\n",
    "    return A, P, U\n",
    "\n",
    "B = Id = np.array([[1,0,0], [0,1,0], [0,0,1] ])\n",
    "A = np.array([\n",
    "    [3.0, 5.0, 7.0],\n",
    "    [2.0, 3.0, 4.0],\n",
    "    [5.0, 9.0, 11.0]\n",
    "])\n",
    "X, P, U = solvensis(A,B)\n",
    "invA = spl.inv(A)\n",
    "print(X)"
   ]
  },
  {
   "cell_type": "markdown",
   "id": "412ae29a-6a32-43e0-9456-e7677f695feb",
   "metadata": {},
   "source": [
    "## Esercizio 6\n",
    "Sfruttando la fattorizzazione PA=LU  di una delle matrici del punto precedente, calcolarne il determinante.\n"
   ]
  },
  {
   "cell_type": "code",
   "execution_count": 10,
   "id": "955f6023-3d12-4db0-bc15-6a5f5ad51faa",
   "metadata": {
    "tags": []
   },
   "outputs": [
    {
     "name": "stdout",
     "output_type": "stream",
     "text": [
      "[[0. 0. 1.]\n",
      " [0. 1. 0.]\n",
      " [1. 0. 0.]]\n",
      "[[ 5.          9.         11.        ]\n",
      " [ 0.         -0.6        -0.4       ]\n",
      " [ 0.          0.          0.66666667]]\n",
      "Il determinante di A è:\n",
      " 1.9999999999999996\n",
      "Il determinante di numpy è\n",
      " 1.9999999999999996\n"
     ]
    }
   ],
   "source": [
    "#det(A) = (-1)^s * produttoria da j=1 a n di ujj\n",
    "print(P)\n",
    "print(U)\n",
    "s = 1\n",
    "\n",
    "det = np.prod(np.diag(U)) * ((-1)**s) # s è il numero di di righe scanmbiate nella matrice di permutazione P\n",
    "print(\"Il determinante di A è:\\n\", det)\n",
    "A = np.array([\n",
    "    [3.0, 5.0, 7.0],\n",
    "    [2.0, 3.0, 4.0],\n",
    "    [5.0, 9.0, 11.0]\n",
    "])\n",
    "print(\"Il determinante di numpy è\\n\", npl.det(A) )"
   ]
  },
  {
   "cell_type": "markdown",
   "id": "8b359b50-ef2b-4a62-8623-b4cba6a31468",
   "metadata": {},
   "source": [
    "## Esercizio 7\n",
    "Per valori di $n = 4 : 6 : 40$, si consideri il sistema lineare $A_n x = b$ con\n",
    "$A_n$ matrice di Hankel di ordine $n$ di elementi\n",
    "$$\n",
    "a^{(n)}_{i,n+k-i}\n",
    "=\n",
    "\\left \\{\n",
    "\\begin{array}{ll}\n",
    "2^k & \\hbox{se} \\ k > 0,\\\\\n",
    "2^{1/(2-k)} & \\hbox{se} \\ k \\leq 0,\n",
    "\\end{array}\n",
    "\\right .\n",
    "\\qquad\n",
    "i = 1, ..., n, \\ \\  k = i + 1-n, ..., i,\n",
    "$$\n",
    "e $b$ scelto in modo che risulti $x = [1, 1, ..., 1]^T$. Si risolva tale sistema\n",
    "con il metodo di fattorizzazione LU della matrice PA\n",
    "e il metodo di fattorizzazione QR (Q,R  =scipy.linalg.qr(A)).\n",
    "Calcolare gli errori relativi $\\| \\delta x \\|_2/\\|x\\|_2$ da cui sono affette\n",
    "le soluzioni calcolate con i due metodi e produrre, al variare di $n$, un\n",
    "grafico in scala logaritmica ( matplotlib.plyplot.loglog) degli errori relativi calcolati. Che cosa si\n",
    "osserva?\n",
    "\n",
    "NB: per il calcolo della matrice di Hankel utilizzare la function \n",
    "\n",
    "def Hankel(n):\n",
    "\n",
    "    A=np.zeros((n,n),dtype=float)\n",
    "    for i in range(0,n):\n",
    "        for k in range(i+1-n,i+1):\n",
    "            if k>0:\n",
    "                A[i,n-1+k-i]=2.0**(k+1)\n",
    "            else:\n",
    "                A[i,n-1+k-i]=2.0**(1/(2-k-1))\n",
    "    return A"
   ]
  },
  {
   "cell_type": "code",
   "execution_count": 11,
   "id": "d5e324f7-cf4e-487d-9226-334b78174dfc",
   "metadata": {
    "tags": []
   },
   "outputs": [],
   "source": [
    "import matplotlib.pyplot as plt\n",
    "\n",
    "def Hankel(n):\n",
    "    A=np.zeros((n,n),dtype=float)\n",
    "    for i in range(0,n):\n",
    "        for k in range(i+1-n,i+1):\n",
    "            if k>0:\n",
    "                A[i,n-1+k-i]=2.0**(k+1)\n",
    "            else:\n",
    "                A[i,n-1+k-i]=2.0**(1/(2-k-1))\n",
    "    return A\n",
    "errors_lu = []\n",
    "errors_qr = []\n"
   ]
  },
  {
   "cell_type": "code",
   "execution_count": 12,
   "id": "5db6ce42-e1ea-4677-9777-7cd977cb104d",
   "metadata": {},
   "outputs": [
    {
     "name": "stdout",
     "output_type": "stream",
     "text": [
      "Risoluzione QR 1:\n",
      " [1. 1. 1. 1.]\n",
      "Errore qr:  3.4702240210488587e-15\n",
      "Risoluzione LU 1:\n",
      " [[1. 1. 1. 1.]]\n",
      "Errore lu:  1.777223989483337e-15\n"
     ]
    }
   ],
   "source": [
    "n = 4\n",
    "x = np.full((n, 1), 1.0).reshape(n, 1)\n",
    "A = Hankel(n)\n",
    "b = np.sum(A, axis=1)\n",
    "\n",
    "Q, R = spl.qr(A)\n",
    "if spl.det(A) != 0:\n",
    "    xqr = spl.solve(R,Q.transpose().copy()@b)\n",
    "    errore_qr = npl.norm(x - xqr, 2) / npl.norm(x, 2)\n",
    "    print(\"Risoluzione QR 1:\\n\",xqr)\n",
    "    print(\"Errore qr: \", errore_qr)\n",
    "    errors_qr.append(errore_qr)\n",
    "    \n",
    "PT, L, U = spl.lu(A)\n",
    "P = PT.T.copy()\n",
    "xlu, flag = LUsolve(P, L, U, b)\n",
    "print(\"Risoluzione LU 1:\\n\",xlu.reshape(1,n))\n",
    "errore_lu = npl.norm(x - xlu, 2) / npl.norm(x, 2)\n",
    "print(\"Errore lu: \", errore_lu)\n",
    "errors_lu.append(errore_lu)"
   ]
  },
  {
   "cell_type": "code",
   "execution_count": 13,
   "id": "89eb0d04-65bc-4bb2-947d-b24da0e2b960",
   "metadata": {},
   "outputs": [
    {
     "name": "stdout",
     "output_type": "stream",
     "text": [
      "Risoluzione QR 1:\n",
      " [1. 1. 1. 1. 1. 1.]\n",
      "Errore qr:  1.3906800914525472e-13\n",
      "Risoluzione LU 1:\n",
      " [[1. 1. 1. 1. 1. 1.]]\n",
      "Errore lu:  2.388536749762734e-14\n"
     ]
    }
   ],
   "source": [
    "n = 6\n",
    "x = np.full((n, 1), 1.0).reshape(n, 1)\n",
    "A = Hankel(n)\n",
    "b = np.sum(A, axis=1)\n",
    "\n",
    "Q, R = spl.qr(A)\n",
    "if spl.det(A) != 0:\n",
    "    xqr = spl.solve(R,Q.transpose().copy()@b)\n",
    "    errore_qr = npl.norm(x - xqr, 2) / npl.norm(x, 2)\n",
    "    print(\"Risoluzione QR 1:\\n\",xqr)\n",
    "    print(\"Errore qr: \", errore_qr)\n",
    "    errors_qr.append(errore_qr)\n",
    "    \n",
    "PT, L, U = spl.lu(A)\n",
    "P = PT.T.copy()\n",
    "xlu, flag = LUsolve(P, L, U, b)\n",
    "print(\"Risoluzione LU 1:\\n\",xlu.reshape(1,n))\n",
    "errore_lu = npl.norm(x - xlu, 2) / npl.norm(x, 2)\n",
    "print(\"Errore lu: \", errore_lu)\n",
    "errors_lu.append(errore_lu)"
   ]
  },
  {
   "cell_type": "code",
   "execution_count": 14,
   "id": "035ceb34-b502-4bbf-9d55-5018471a6e2d",
   "metadata": {},
   "outputs": [
    {
     "name": "stdout",
     "output_type": "stream",
     "text": [
      "Risoluzione QR 1:\n",
      " [1.0009066  0.99923696 0.99967552 1.00024476 0.99989104 1.00005554\n",
      " 1.00000096 0.99988146 1.00016346 0.99995024 0.99992498 1.00015268\n",
      " 0.99994617 0.99987237 1.00022522 0.99980858 1.00013975 0.99993582\n",
      " 0.99989093 1.0002062  0.99987123 1.00002776 1.00001557 0.99990879\n",
      " 1.00012253 0.99996576 0.99993935 1.00011484 0.99997536 0.9999852\n",
      " 0.99991422 1.00006725 1.00011973 0.99981381 1.00006504 0.99966066\n",
      " 1.0005297  1.00021193 0.9993165  1.00024362]\n",
      "Errore qr:  0.0017126557521216735\n",
      "Risoluzione LU 1:\n",
      " [[1.00012207 0.99981489 0.9999376  1.00037249 0.99969211 0.9997699\n",
      "  1.00051999 0.99962901 1.00038014 0.99907962 1.00164125 0.99784456\n",
      "  1.00169532 0.99936086 0.99975902 1.00016708 1.00076664 0.99925171\n",
      "  0.99974909 1.00059566 0.99950443 1.00058499 0.99900833 1.00124066\n",
      "  0.99942764 1.00039284 1.00004913 0.99963673 0.99996716 1.00004564\n",
      "  1.00018652 1.00020686 0.99908194 1.00040134 1.00069671 0.99911967\n",
      "  1.00051566 0.99967123 1.00101185 0.99954482]]\n",
      "Errore lu:  0.0007363704587954233\n"
     ]
    }
   ],
   "source": [
    "n = 40\n",
    "x = np.full((n, 1), 1.0).reshape(n, 1)\n",
    "A = Hankel(n)\n",
    "b = np.sum(A, axis=1)\n",
    "\n",
    "Q, R = spl.qr(A)\n",
    "if spl.det(A) != 0:\n",
    "    xqr = spl.solve(R,Q.transpose().copy()@b)\n",
    "    errore_qr = npl.norm(x - xqr, 2) / npl.norm(x, 2)\n",
    "    print(\"Risoluzione QR 1:\\n\",xqr)\n",
    "    print(\"Errore qr: \", errore_qr)\n",
    "    errors_qr.append(errore_qr)\n",
    "    \n",
    "PT, L, U = spl.lu(A)\n",
    "P = PT.T.copy()\n",
    "xlu, flag = LUsolve(P, L, U, b)\n",
    "print(\"Risoluzione LU 1:\\n\",xlu.reshape(1,n))\n",
    "errore_lu = npl.norm(x - xlu, 2) / npl.norm(x, 2)\n",
    "print(\"Errore lu: \", errore_lu)\n",
    "errors_lu.append(errore_lu)"
   ]
  },
  {
   "cell_type": "code",
   "execution_count": 15,
   "id": "408174ad-96ee-4ade-be3c-1419786eebbf",
   "metadata": {},
   "outputs": [
    {
     "name": "stdout",
     "output_type": "stream",
     "text": [
      "[1.777223989483337e-15, 2.388536749762734e-14, 0.0007363704587954233] [3.4702240210488587e-15, 1.3906800914525472e-13, 0.0017126557521216735]\n"
     ]
    },
    {
     "data": {
      "text/plain": [
       "[<matplotlib.lines.Line2D at 0x783a30572a50>]"
      ]
     },
     "execution_count": 15,
     "metadata": {},
     "output_type": "execute_result"
    },
    {
     "data": {
      "image/png": "[encoded data removed]",
      "text/plain": [
       "<Figure size 640x480 with 1 Axes>"
      ]
     },
     "metadata": {},
     "output_type": "display_data"
    }
   ],
   "source": [
    "print(errors_lu, errors_qr)\n",
    "plt.semilogy(range(3),errors_lu,'-oy')\n",
    "plt.semilogy(range(3),errors_qr,'-oy')"
   ]
  },
  {
   "cell_type": "markdown",
   "id": "00b1242a-d51d-40fa-a9ed-716cc4ab9d89",
   "metadata": {},
   "source": [
    "## Esercizio 8\n",
    "\n",
    "Ripetere l'esercizio precedente per risolvere il sistema lineare $Ax = b$\n",
    "con $A$ e $b$ cos\\`i  definiti:\n",
    "$$\n",
    "a^{(n)}_{i,j}=\n",
    "\\left \\{\n",
    "\\begin{array}{ll}\n",
    "1 & \\hbox{se} \\ i=j \\ \\hbox{o \\, se} \\ j=n,\\\\\n",
    "-1 & \\hbox{se} \\ i>j,\\\\\n",
    "0 & \\hbox{altrimenti}\n",
    "\\end{array}\n",
    "\\right .\n",
    "\\qquad\n",
    "b = A \\cdot [1, ..., 1]^T,\n",
    "$$\n",
    "per $n = 48 : 2 : 58$ e $b$ scelto in modo che risulti $x = [1, 1, ..., 1]^T$. Che\n",
    "cosa si osserva?"
   ]
  },
  {
   "cell_type": "code",
   "execution_count": 16,
   "id": "b7c59172-484d-464b-a6c1-41f8cf99f242",
   "metadata": {},
   "outputs": [],
   "source": [
    "def matrix(n):\n",
    "    A=np.zeros((n,n),dtype=float)\n",
    "    for i in range(0,n):\n",
    "        for k in range(0,n):\n",
    "            if i == k or k == n:\n",
    "                A[i,k]= 1\n",
    "            elif i > k:\n",
    "                A[i,k]= -1\n",
    "            else:\n",
    "                A[i,k]= 0\n",
    "    return A\n",
    "errors_lu = []\n",
    "errors_qr = []"
   ]
  },
  {
   "cell_type": "code",
   "execution_count": 17,
   "id": "d7bbe89e-1bb7-4e7f-aa7b-0a7ce699e270",
   "metadata": {},
   "outputs": [
    {
     "name": "stdout",
     "output_type": "stream",
     "text": [
      "Risoluzione QR 1:\n",
      " [1.         1.         1.         1.         1.         1.\n",
      " 1.         1.         1.         1.         1.         1.\n",
      " 1.         1.         1.         1.         1.         1.\n",
      " 1.00000001 1.00000001 1.00000003 1.00000006 1.00000012 1.00000023\n",
      " 1.00000046 1.00000092 1.00000185 1.0000037  1.00000739 1.00001479\n",
      " 1.00002958 1.00005915 1.0001183  1.0002366  1.0004732  1.00094641\n",
      " 1.00189281 1.00378563 1.00757126 1.01514252 1.03028503 1.06057006\n",
      " 1.12114013 1.24228025 1.4845605  1.96912101 2.93824201 4.87648402]\n",
      "Errore qr:  4.476178186981803\n",
      "Risoluzione LU 1:\n",
      " [[1. 1. 1. 1. 1. 1. 1. 1. 1. 1. 1. 1. 1. 1. 1. 1. 1. 1. 1. 1. 1. 1. 1. 1.\n",
      "  1. 1. 1. 1. 1. 1. 1. 1. 1. 1. 1. 1. 1. 1. 1. 1. 1. 1. 1. 1. 1. 1. 1. 1.]]\n",
      "Errore lu:  0.0\n"
     ]
    }
   ],
   "source": [
    "n = 48\n",
    "x = np.full((n, 1), 1.0).reshape(n, 1)\n",
    "A = matrix(n)\n",
    "b = np.sum(A, axis=1)\n",
    "\n",
    "Q, R = spl.qr(A)\n",
    "if spl.det(A) != 0:\n",
    "    xqr = spl.solve(R,Q.transpose().copy()@b)\n",
    "    errore_qr = npl.norm(x - xqr, 2) / npl.norm(x, 2)\n",
    "    print(\"Risoluzione QR 1:\\n\",xqr)\n",
    "    print(\"Errore qr: \", errore_qr)\n",
    "    errors_qr.append(errore_qr)\n",
    "    \n",
    "PT, L, U = spl.lu(A)\n",
    "P = PT.T.copy()\n",
    "xlu, flag = LUsolve(P, L, U, b)\n",
    "print(\"Risoluzione LU 1:\\n\",xlu.reshape(1,n))\n",
    "errore_lu = npl.norm(x - xlu, 2) / npl.norm(x, 2)\n",
    "print(\"Errore lu: \", errore_lu)\n",
    "errors_lu.append(errore_lu)"
   ]
  },
  {
   "cell_type": "code",
   "execution_count": 18,
   "id": "8b70c9c7-9138-4363-a34e-58df48c35d1d",
   "metadata": {},
   "outputs": [
    {
     "name": "stdout",
     "output_type": "stream",
     "text": [
      "Risoluzione QR 1:\n",
      " [1. 1.]\n",
      "Errore qr:  3.5108334685767017e-16\n",
      "Risoluzione LU 1:\n",
      " [[1. 1.]]\n",
      "Errore lu:  0.0\n"
     ]
    }
   ],
   "source": [
    "n = 2\n",
    "x = np.full((n, 1), 1.0).reshape(n, 1)\n",
    "A = matrix(n)\n",
    "b = np.sum(A, axis=1)\n",
    "\n",
    "Q, R = spl.qr(A)\n",
    "if spl.det(A) != 0:\n",
    "    xqr = spl.solve(R,Q.transpose().copy()@b)\n",
    "    errore_qr = npl.norm(x - xqr, 2) / npl.norm(x, 2)\n",
    "    print(\"Risoluzione QR 1:\\n\",xqr)\n",
    "    print(\"Errore qr: \", errore_qr)\n",
    "    errors_qr.append(errore_qr)\n",
    "    \n",
    "PT, L, U = spl.lu(A)\n",
    "P = PT.T.copy()\n",
    "xlu, flag = LUsolve(P, L, U, b)\n",
    "print(\"Risoluzione LU 1:\\n\",xlu.reshape(1,n))\n",
    "errore_lu = npl.norm(x - xlu, 2) / npl.norm(x, 2)\n",
    "print(\"Errore lu: \", errore_lu)\n",
    "errors_lu.append(errore_lu)"
   ]
  },
  {
   "cell_type": "code",
   "execution_count": 19,
   "id": "683695a9-ebf6-4126-a9ac-db85de8eb20f",
   "metadata": {},
   "outputs": [
    {
     "name": "stdout",
     "output_type": "stream",
     "text": [
      "Risoluzione QR 1:\n",
      " [ 1.00000000e+00  1.00000000e+00  1.00000000e+00  1.00000000e+00\n",
      "  1.00000000e+00  1.00000000e+00  1.00000000e+00  1.00000000e+00\n",
      "  1.00000000e+00  1.00000000e+00  1.00000000e+00  1.00000000e+00\n",
      "  1.00000000e+00  1.00000000e+00  1.00000000e+00  1.00000000e+00\n",
      "  1.00000000e+00  9.99999999e-01  9.99999999e-01  9.99999997e-01\n",
      "  9.99999994e-01  9.99999988e-01  9.99999977e-01  9.99999953e-01\n",
      "  9.99999907e-01  9.99999814e-01  9.99999628e-01  9.99999255e-01\n",
      "  9.99998510e-01  9.99997020e-01  9.99994040e-01  9.99988080e-01\n",
      "  9.99976161e-01  9.99952321e-01  9.99904643e-01  9.99809285e-01\n",
      "  9.99618571e-01  9.99237142e-01  9.98474284e-01  9.96948568e-01\n",
      "  9.93897136e-01  9.87794272e-01  9.75588543e-01  9.51177087e-01\n",
      "  9.02354173e-01  8.04708347e-01  6.09416693e-01  2.18833386e-01\n",
      " -5.62333227e-01 -2.12466645e+00 -5.24933291e+00 -1.14986658e+01\n",
      " -2.39973316e+01 -4.89946633e+01 -9.89893265e+01 -1.98978653e+02\n",
      " -3.98957306e+02 -7.98914612e+02]\n",
      "Errore qr:  923.6618333953832\n",
      "Risoluzione LU 1:\n",
      " [[1. 1. 1. 1. 1. 1. 1. 1. 1. 1. 1. 1. 1. 1. 1. 1. 1. 1. 1. 1. 1. 1. 1. 1.\n",
      "  1. 1. 1. 1. 1. 1. 1. 1. 1. 1. 1. 1. 1. 1. 1. 1. 1. 1. 1. 1. 1. 1. 1. 1.\n",
      "  1. 1. 1. 1. 1. 1. 1. 1. 1. 1.]]\n",
      "Errore lu:  0.0\n"
     ]
    },
    {
     "name": "stderr",
     "output_type": "stream",
     "text": [
      "/tmp/ipykernel_26179/1447988018.py:8: LinAlgWarning: Ill-conditioned matrix (rcond=6.24805e-19): result may not be accurate.\n",
      "  xqr = spl.solve(R,Q.transpose().copy()@b)\n"
     ]
    }
   ],
   "source": [
    "n = 58\n",
    "x = np.full((n, 1), 1.0).reshape(n, 1)\n",
    "A = matrix(n)\n",
    "b = np.sum(A, axis=1)\n",
    "\n",
    "Q, R = spl.qr(A)\n",
    "if spl.det(A) != 0:\n",
    "    xqr = spl.solve(R,Q.transpose().copy()@b)\n",
    "    errore_qr = npl.norm(x - xqr, 2) / npl.norm(x, 2)\n",
    "    print(\"Risoluzione QR 1:\\n\",xqr)\n",
    "    print(\"Errore qr: \", errore_qr)\n",
    "    errors_qr.append(errore_qr)\n",
    "    \n",
    "PT, L, U = spl.lu(A)\n",
    "P = PT.T.copy()\n",
    "xlu, flag = LUsolve(P, L, U, b)\n",
    "print(\"Risoluzione LU 1:\\n\",xlu.reshape(1,n))\n",
    "errore_lu = npl.norm(x - xlu, 2) / npl.norm(x, 2)\n",
    "print(\"Errore lu: \", errore_lu)\n",
    "errors_lu.append(errore_lu)"
   ]
  },
  {
   "cell_type": "code",
   "execution_count": 20,
   "id": "a74d138e-d55e-43fb-a4eb-cb99cce58768",
   "metadata": {},
   "outputs": [
    {
     "name": "stdout",
     "output_type": "stream",
     "text": [
      "[0.0, 0.0, 0.0] [4.476178186981803, 3.5108334685767017e-16, 923.6618333953832]\n"
     ]
    },
    {
     "data": {
      "text/plain": [
       "[<matplotlib.lines.Line2D at 0x783a2fd29910>]"
      ]
     },
     "execution_count": 20,
     "metadata": {},
     "output_type": "execute_result"
    },
    {
     "data": {
      "image/png": "[encoded data removed]",
      "text/plain": [
       "<Figure size 640x480 with 1 Axes>"
      ]
     },
     "metadata": {},
     "output_type": "display_data"
    }
   ],
   "source": [
    "print(errors_lu, errors_qr)\n",
    "plt.semilogy(range(3),errors_lu,'-oy')\n",
    "plt.semilogy(range(3),errors_qr,'-oy')\n",
    "\n",
    "#Si nota dal grafico che per queste matrici l'errore relativo su LU è sempre zero, inoltre più è grande la matrice e maggiore è l'errore"
   ]
  },
  {
   "cell_type": "markdown",
   "id": "66ae0b30-e823-4742-9b43-95268605d358",
   "metadata": {},
   "source": [
    "## Metodi iterativi di Jacobi, Guass-Seidel e Gausseidel_SOR per la soluzione numerica di un sistema lineare"
   ]
  },
  {
   "cell_type": "markdown",
   "id": "28bc92ed-296e-4af1-9b6a-839bf95f81ca",
   "metadata": {},
   "source": [
    "## Esercizio 9\n",
    "Implementare la  funzione $jacobi(A,b,x0,toll,itmax)$ per risolvere il  sistema lineare Ax=b utilizzando il Metodo iterativo di Jacobi. \n",
    "La funzione prende in input:\n",
    "- A: matrice dei coefficienti\n",
    "- b: termine noto\n",
    "- x0: vettore iniziale della stessa dimensione di b\n",
    "- toll: tolleranza per il criterio di arresto\n",
    "- itmax: iterazioni massime oltre le quali il metodo si ferma\n",
    "\n",
    "Calcolare il raggio spettrale della matrice di iterazione.\n",
    "\n",
    "Implementare un criterio di arresto per il procedimento iterativo in termini di : $||x^{(k)}-x^{(k-1)}||/||x^{(k)}|| <toll$"
   ]
  },
  {
   "cell_type": "markdown",
   "id": "94f1b913-cae9-4b23-b6ab-ed8dcc1d4ce6",
   "metadata": {},
   "source": [
    "## Esercizio 10\n",
    "Implementare la  funzione $gauss$_$seidel(A,b,x0,toll,it_max)$ per risolvere il  sistema lineare Ax=b utilizzando il Metodo iterativo di Gauss-Seidel. \n",
    "La funzione prende in input:\n",
    "- A: matrice dei coefficienti\n",
    "- b: termine noto\n",
    "- x0: vettore iniziale della stessa dimensione di b\n",
    "- toll: tolleranza per il criterio di arresto\n",
    "- itmax: iterazioni massime oltre le quali il metodo si ferma\n",
    "\n",
    "Calcolare il raggio spettrale della matrice di iterazione.\n",
    "\n",
    "Implementare un criterio di arresto per il procedimento iterativo in termini di : $||x^{(k)}-x^{(k-1)}||/||x^{(k)}|| <toll$"
   ]
  },
  {
   "cell_type": "markdown",
   "id": "d45f316b-0e7e-4d7a-9d5d-08ffc5610cab",
   "metadata": {},
   "source": [
    "## Esercizio 11\n",
    "Testare i metodi di Jacobi e di Gauss Seidel nella soluzione dei sistemi lineare Ax=b, dove \n",
    "- A=np.array([[4,1,3],[3,4,1],[1,1,17]]) \n",
    "- A=np.array([[3,0, 4],[7, 4, 3],[-1, -1 ,-2]])\n",
    "- A=np.array([[5, 0, -1, 2],[ -2, 4, 1, 0],[0, -1, 4, -1],[ 2, 0, 0, 3]])\n",
    "\n",
    "ed il termine noto del sistema è scelto in maniera tale che la soluzione esatta del sistema sia il vettore fatto da tutti 1.\n",
    "Visualizzare in un grafico in scala logaritmica  l'errore per ogni iterazione per ciascun metodo. Cosa si osserva?\n",
    "Porre toll=1e-8 it_max=500 e x0=np.zeros(A.shape[0]"
   ]
  },
  {
   "cell_type": "code",
   "execution_count": null,
   "id": "38703e79-c87e-4118-89ed-f580aa14c351",
   "metadata": {},
   "outputs": [],
   "source": []
  },
  {
   "cell_type": "markdown",
   "id": "389daa82-16aa-4c52-b830-41693c320ecd",
   "metadata": {},
   "source": [
    "## Esercizio 12\n",
    "Implementare la  funzione $gauss$_$seidel$_sor(A,b,x0,omega, toll,itmax) per risolvere il  sistema lineare Ax=b utilizzando il Metodo iterativo di Gauss-Seidel-SOR\n",
    "La funzione prende in input:\n",
    "- A: matrice dei coefficienti\n",
    "- b: termine noto\n",
    "- x0: vettore iniziale della stessa dimensione di b\n",
    "- omega: il parametro di rilassamento\n",
    "- toll: tolleranza per il criterio di arresto\n",
    "- itmax: iterazioni massime oltre le quali il metodo si ferma\n",
    "\n",
    "Restituisce in output\n",
    "- la soluzione x\n",
    "- l'errore ad ogni iterazione calcolato come $||x^{(k)}-x^{(k-1)}||/||x^{(k)}||$\n",
    "\n",
    "Calcolare il raggio spettrale della matrice di iterazione.\n",
    "\n",
    "Implementare un criterio di arresto per il procedimento iterativo in termini di : $||x^{(k)}-x^{(k-1)}||/||x^{(k)}|| <toll$"
   ]
  },
  {
   "cell_type": "markdown",
   "id": "2d2d64d1-52ae-43c5-a76c-e869474b6496",
   "metadata": {},
   "source": [
    "## Esercizio 13\n",
    "Scrivere una funzione creaPoisson(n) che preso in input l'ordine della matrice quadrata di Poisson la costruzione secondo la seguente formula:\n",
    "$$A =\n",
    "\\left [\n",
    "\\begin{array}{ccccccccccc}\n",
    "4 & -1 & 0 & -1 &0 &0 & 0& 0& \\cdots &   0 & 0\\\\\n",
    "-1 & 4 & -1 & 0  &-1 &0 & 0& 0& \\cdots &   0 & 0\\\\\n",
    "0 & -1 & 4 & -1  &0 &-1 & 0& 0& \\cdots &   0 & 0 \\\\\n",
    "-1 & 0 & -1 & 4  &-1 &0  & -1 & 0& \\cdots &   0 & 0\\\\\n",
    "0 & -1 & 0 & -1  & 4 &-1 & 0 & -1& \\cdots &   0 & 0\\\\\n",
    "0 & 0 & -1 & 0  & -1 &4 & -1 & 0&  -1 & 0 & 0 \\\\\n",
    "0 & 0 & 0 & \\ddots  & 0 &\\ddots & \\ddots & \\ddots& \\ddots & \\ddots & 0\\\\\n",
    "0 & 0 & 0 & 0  & -1 &0  & -1 & 4& -1 &   0& -1\\\\\n",
    "\\end{array}\n",
    " \\right ], \\qquad\n",
    "$$\n",
    "- Risolvere il sistema lineare Ax=b con matrice dei coefficienti A di Poisson di ordine 10 e termine noto b scelto in maniera tale che il sistema abbia soluzione il vettore x con tutte le componenti  uguali ad 1, utilizzando  il metodo iterativo di Jacobi, Gauss-Seidel e Gauss-Seidel-Sor con parametro omega scelto tra 1 e 2 in maniera tale che il raggio spettrale della matrice di iterazione sia il più piccolo possibile e confrontare su un unico grafico l'andamento degli errori in scala logaritmica. Usare toll=1e-10."
   ]
  }
 ],
 "metadata": {
  "kernelspec": {
   "display_name": "Python 3 (ipykernel)",
   "language": "python",
   "name": "python3"
  },
  "language_info": {
   "codemirror_mode": {
    "name": "ipython",
    "version": 3
   },
   "file_extension": ".py",
   "mimetype": "text/x-python",
   "name": "python",
   "nbconvert_exporter": "python",
   "pygments_lexer": "ipython3",
   "version": "3.11.7"
  }
 },
 "nbformat": 4,
 "nbformat_minor": 5
}
