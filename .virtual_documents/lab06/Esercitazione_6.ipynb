





import numpy as np
from bisezione import bisezione
from falsi import falsi
from newton import newton
from derivata import derivata
import matplotlib.pyplot as plt
import sympy as sym

f = lambda x: np.exp(-x)-(x+1)
a = -1.0
b = 2.0
xx = np.linspace(a,b,200)
plt.plot(xx,f(xx))

#BISEZIONE
zero_b, it_bis, v_xk_b = bisezione(f,a,b,1e-12)
print("\nBISEZIONE: ",zero_b, it_bis, v_xk_b)
alfa = 0
err_bis = np.abs(np.array(v_xk_b)-alfa)
print("errore_bisezione", err_bis)
plt.semilogy(range(it_bis),err_bis,'-o')


#FALSI
zero_f, it_fals, v_xk_f = falsi(f,a,b,1e-12,1e-12,1000)
print("\nFALSI: ",zero_f, it_fals, v_xk_b)
alfa = 0
err_falsi = np.abs(np.array(v_xk_f)-alfa)
print("errore_falsi", err_falsi)
plt.semilogy(range(it_fals),err_falsi,'-o')


#NEWTON
x0 = 0.5
tolx = 1e-12
tolf = 1e-12
nmax = 500
#derivata
x = sym.symbols('x')
fs = sym.exp(-x)-(x+1)
fp = derivata(x,fs)

zero_newton, it_n, v_xk_n = newton(f,fp,x0,tolx,tolf,nmax)
print("\nNEWTON: ",zero_newton, it_n, v_xk_n)
err_newton = np.abs(np.array(v_xk_n)-alfa)
print("errore_newton", err_newton)
plt.semilogy(range(it_n),err_newton,'-o')








from bisezione import bisezione
from falsi import falsi
from newton import newton
from derivata import derivata
import numpy as np
import matplotlib.pyplot as plt
import sympy as sym

f1 = lambda x: np.exp(-x)-(x+1)
a1 = -1
b1 = 2
x01 = -0.5
tolx1 = 1e-12
tolf1 = 1e-12

f2 = lambda x: np.log2(x+3)-2
a2 = -1
b2 = 2
x02 = 0.5
tolx2 = 1e-12
tolf2 = 1e-12

f3 = lambda x: np.sqrt(x)-(x**2)/4
a3 = 1
b3 = 3
x03 = 1.8
tolx3 = 1e-12
tolf3 = 1e-12

#BISEZIONE
zero_b1, it_bis1, v_xk_b1 = bisezione(f1,a1,b1,tolx1)
zero_b2, it_bis2, v_xk_b2 = bisezione(f2,a2,b2,tolx2)
zero_b3, it_bis3, v_xk_b3 = bisezione(f3,a3,b3,tolx3)
alfa1 = 0
alfa2 = 1
alfa3 = 2**(4/3)
err_bis1 = np.abs(np.array(v_xk_b1)-alfa1)
err_bis2 = np.abs(np.array(v_xk_b2)-alfa2)
err_bis3 = np.abs(np.array(v_xk_b3)-alfa3)
print("Andamento degli errori sulle 3 funzioni tramite bisezione")
plt.semilogy(range(it_bis1),err_bis1,'-o')
plt.semilogy(range(it_bis2),err_bis2,'-o')
plt.semilogy(range(it_bis3),err_bis3,'-o')
print("Risultati bisezione:",zero_b1,zero_b2,zero_b3)

#NEWTON
#derivata
x = sym.symbols('x')
fs1 = sym.exp(-x)-(x+1)
fs2 = sym.log(x+3, 2)-2
fs3 = sym.sqrt(x)-(x**2)/4

fp1 = derivata(x,fs1)
fp2 = derivata(x,fs2)
fp3 = derivata(x,fs3)

nmax = 500
zero_n1, it_new1, v_xk_n1 = newton(f1,fp1,x01,tolx1,tolf1,nmax)
zero_n2, it_new2, v_xk_n2 = newton(f2,fp2,x02,tolx2,tolf2,nmax)
zero_n3, it_new3, v_xk_n3 = newton(f3,fp3,x03,tolx3,tolf3,nmax)
alfa1 = 0
alfa2 = 1
alfa3 = 2**(4/3)
err_new1 = np.abs(np.array(v_xk_n1)-alfa1)
print("ERRORE NEWTOWN:",err_new1)
err_new2 = np.abs(np.array(v_xk_n2)-alfa2)
err_new3 = np.abs(np.array(v_xk_n3)-alfa3)
print("Andamento degli errori sulle 3 funzioni tramite newton")
plt.semilogy(range(it_new1),err_new1,'-o')
plt.semilogy(range(it_new2),err_new2,'-o')
plt.semilogy(range(it_new3),err_new3,'-o')
print("Risultati newton:",zero_n1,zero_n2, zero_n3)






import sympy as sym
from derivata import derivata
from newton import newton

F = lambda x: (x**3) + (x**2) - (33*x) + 63
x0 = 1e-12
tolf = 1e-12

x = sym.symbols('x')
fs = (x**3) + (x**2) - (33*x) + 63
Fp = derivata(x,fs)

ris,it,iterated = newton(F,Fp,x0,tolf,tolf,500)
print("Risultato:",ris,"Iterazioni totali:",it)















#importato da newtonRaphson.py, guardare li








from newtonRaphson import newtonRaphson
import numpy as np

x0 = np.array([1,2])

#1)
print("\n Caso 1")
fname = lambda x: np.array([ 
    2*x[0]-np.cos(x[1]), 
    np.sin(x[0])+2*x[1] 
]) #sistema con f

#Costruisco lo Jacobiano di questo sistema
Jac = lambda x: np.array([
    [ 2,np.sin(x[1]) ],
    [ np.cos(x[0]),2 ]
]) #matrice Jacobbiana con dfxi/xj
ris,err,it = newtonRaphson(fname,Jac,x0,1e-2,1e-2,500)
plt.semilogy(range(it),err,'-or')

#2)
print("\n Caso 2")
fname = lambda x: np.array([ 
    x[0]**2 + x[1]**2 - 9,
    x[0] + x[1] - 3
]) #sistema con f

#Costruisco lo Jacobiano di questo sistema
Jac = lambda x: np.array([ 
    [ 2*x[0], 2*x[1] ],
    [1,1]
]) #matrice Jacobbiana con dfxi/xj
ris,err,it = newtonRaphson(fname,Jac,x0,1e-2,1e-2,500)
plt.semilogy(range(it),err,'-og')

#3)
print("\n Caso 3")
fname = lambda x: np.array([ 
    4*(x[0]**2) + x[1]**2 - 4,
    x[0] + x[1] - np.sin(x[0] - x[1])
]) #sistema con f

#Costruisco lo Jacobiano di questo sistema
Jac = lambda x: np.array([
    [ 8*x[0], 2*x[1] ],
    [ 1 - np.cos(x[0] + x[1]), 1 + np.cos(x[0] + x[1]) ]
]) #matrice Jacobbiana con dfxi/xj
ris,err,it = newtonRaphson(fname,Jac,x0,1e-2,1e-2,500)
plt.semilogy(range(it),err,'-oy')







from mpl_toolkits.mplot3d import Axes3D
#discretizzo x e y
x = np.arange(-4.0,4.0,0.1)
y = np.arange(-4.0,4.0,0.1)
#Vorrei un metodo che mi discretizza tutti i punti dentro la griglia rappresentata e valutata nel piano 3D
X,Y = np.meshgrid(x,y)
Z1 = 2*X-np.cos(Y)
Z2 = np.sin(X)+2*Y
fig = plt.figure()
ax = fig.add_subplot(111,projection='3d')
ax.plot_surface(X,Y,Z1)
plt.show()


plt.contour(X,Y,Z1,levels=[0],colors='black')
plt.contour(X,Y,Z2,levels=[0],colors='red')
plt.show()






