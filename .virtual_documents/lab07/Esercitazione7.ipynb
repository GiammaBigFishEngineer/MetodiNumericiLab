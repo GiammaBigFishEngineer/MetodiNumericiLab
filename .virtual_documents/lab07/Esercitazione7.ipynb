











from graphic import graphic
from newtonRaphson_corde import newtonRaphsonCorde
from newtonRaphson_sham import newtonRaphsonSham
import numpy as np
import matplotlib.pyplot as plt

"""
x_g = np.arange(-4.0,4.0,0.1)
y_g = np.arange(-4.0,4.0,0.1)
#Vorrei un metodo che mi discretizza tutti i punti dentro la griglia rappresentata e valutata nel piano 3D
X,Y = np.meshgrid(x_g, y_g)
Z1 = 2*X-np.cos(Y)
Z2 = np.sin(X)+2*Y
graphic(X,Y,Z1,Z2)

#1
fname = lambda x: np.array([ 
    2*x[0]-np.cos(x[1]), 
    np.sin(x[0])+2*x[1] 
])
Jac = lambda x: np.array([
    [2,np.sin(x[1])],
    [np.cos(x[0]),2]
])
x0 = np.array([-1,1])
sol,errors,it = newtonRaphsonCorde(fname,Jac,x0,1e-2,1e-2,10000)
plt.semilogy(range(it),errors,'-oy')
sol,errors,it = newtonRaphsonSham(fname,Jac,x0,1e-2,1e-2,10000,5)
plt.semilogy(range(it),errors,'-or')


#2
fname = lambda x: np.array([ 
    x[0]**2 + x[1]**2 - 9, 
    x[0]**2 + x[1]**2 - 2 
])
Jac = lambda x: np.array([
    [2,2],
    [2,2]
])
x0 = np.array([-1,1])
sol,errors,it = newtonRaphsonCorde(fname,Jac,x0,1e-2,1e-2,10000)
plt.semilogy(range(it),errors,'-oy')
sol,errors,it = newtonRaphsonSham(fname,Jac,x0,1e-2,1e-2,10000,5)
plt.semilogy(range(it),errors,'-or')
"""
print("TERZO SISTEMA")
x_g = np.arange(-4.0,4.0,0.1)
y_g = np.arange(-4.0,4.0,0.1)
#Vorrei un metodo che mi discretizza tutti i punti dentro la griglia rappresentata e valutata nel piano 3D
X,Y = np.meshgrid(x_g, y_g)
Z1 = 4*X**2-np.cos(Y)
Z2 = X + Y - np.sin(X - Y)
graphic(X,Y,Z1,Z2)
x0 = np.array([-1,1])
#3
fname = lambda x: np.array([ 
    4*x[0]**2-np.cos(x[1]), 
    x[0] + x[1] - np.sin(x[0] - x[1])
])
Jac = lambda x: np.array([
    [8*x[0],np.sin(x[1])],
    [1-np.cos(x[0]), 1+np.cos(x[1])]
])
x0 = np.array([-1,1])
sol,errors,it = newtonRaphsonCorde(fname,Jac,x0,1e-2,1e-2,10000)
plt.semilogy(range(it),errors,'-oy')
sol,errors,it = newtonRaphsonSham(fname,Jac,x0,1e-2,1e-2,10000,5)
plt.semilogy(range(it),errors,'-or')






import numpy as np
from NewtonRaphson_minimo import newtonRaphsonMinimo
from graphic import graphic
import matplotlib.pyplot as plt

#si ricorda che il gradiente è un vettore che ha come componenti le derivate parziali.
"""
test sulla funzione riportata 
f(x1, x2) = x1^2 + x2^2 - 4x1 - 2x2.
"""
#Disegno grafico per capire il mio x0
x_g = np.arange(-4.0,4.0,0.1)
y_g = np.arange(-4.0,4.0,0.1)
#Vorrei un metodo che mi discretizza tutti i punti dentro la griglia rappresentata e valutata nel piano 3D
X,Y = np.meshgrid(x_g, y_g)
Z1 = X**2 + Y**2 - 4*X - 2*Y
fig=plt.figure()
ax = fig.add_subplot(111,projection='3d')
ax.plot_surface(X,Y,Z1)
plt.show()
plt.contour(X,Y,Z1,levels=[0],colors='black')
plt.show()


G = lambda x: np.array([ 2*x[0]-4, 2*x[1]-2 ])
H = lambda x: np.array([
    [2,0],
    [0,2]
])
x0 = np.array([1,0])
tolf = tolx = 1e-10
ris,it,errors = newtonRaphsonMinimo(G,H,x0,tolx,tolf,50)
print("minimo trovato:", ris, "Iterazioni eseguite:", it)

plt.semilogy(range(0,it), errors,'-or')





def norm_inf(A):
    somma_righe = [np.sum(np.abs(row)) for row in A]
    return max(somma_righe)

def norm_one(A):
    return norm_inf(np.transpose(A))

A = np.array([
    [1, -2, 3],
    [-4, 5, 6]
])
print(A)

print("norma inf A:", norm_inf(A))
print("norma uno A:", norm_one(A))





from numpy.linalg import eigvals, norm, inv, det

A = np.array([
    [4,-1,6],
    [2,3,-3],
    [1,-2,9/2]
])

def norm2(A: np.matrix):
    M = np.dot(A.transpose(), A)
    p = np.max(np.abs(eigvals(M)))
    return np.sqrt(p)

print("norm2:", norm2(A))
print("norm:", norm(A, 2))
