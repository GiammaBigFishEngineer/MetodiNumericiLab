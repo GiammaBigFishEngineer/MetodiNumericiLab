{
 "cells": [
  {
   "cell_type": "markdown",
   "id": "d2903ef7-4c36-4b4f-b8dd-01fa2f35dfc5",
   "metadata": {},
   "source": [
    "## Esercitazione 5  del    19 Marzo 2024 \n"
   ]
  },
  {
   "cell_type": "markdown",
   "id": "a3f2d7cc-2f95-467a-af5e-d9cd0c4fcad2",
   "metadata": {
    "tags": []
   },
   "source": [
    "## Esercizio 1 \n",
    "Si consideri l'equazione quadratica $x^2 + 2px - q = 0 $ con $p=10^5$ e $q=10^{-i}$, i=0,..,10\n",
    "\n",
    "- Si stabilisca se il problema relativo al calcolo della soluzione $x= -p+\\sqrt{p^2+q}$ risulta essere ben\n",
    "      condizionato per tutti i valori di q assegnati;\n",
    "\n",
    "- Si calcoli la soluzione x dell'equazione mediante la formula risolutiva indicata al punto precedente e si dica se l'algoritmo di calcolo risulta numericamente\n",
    "stabile  per i valori di q assegnati\n",
    "\n",
    "- si individui una forma stabile per il calcolo della soluzione e si verifichi se l'algoritmo di calcolo risulta numericamente stabile per i valori di q assegnati."
   ]
  },
  {
   "cell_type": "code",
   "execution_count": 6,
   "id": "ba29633d-c68c-4888-882a-5c0ee620f727",
   "metadata": {
    "tags": []
   },
   "outputs": [
    {
     "name": "stdout",
     "output_type": "stream",
     "text": [
      "[4.99999442e-06 5.00003807e-07 5.00003807e-08 4.99130692e-09\n",
      " 4.94765118e-10 4.36557457e-11 1.45519152e-11 0.00000000e+00\n",
      " 0.00000000e+00 0.00000000e+00 0.00000000e+00]\n",
      "\n",
      "spacing 1.9073486328125e-06\n",
      "q= [1.e+00 1.e-01 1.e-02 1.e-03 1.e-04 1.e-05 1.e-06 1.e-07 1.e-08 1.e-09\n",
      " 1.e-10]\n",
      "\n",
      "forma stabile [5.e-06 5.e-07 5.e-08 5.e-09 5.e-10 5.e-11 5.e-12 5.e-13 5.e-14 5.e-15\n",
      " 5.e-16]\n",
      "\n",
      "Nuova forma: [4.99999442e-06 5.00003807e-07 5.00003807e-08 4.99130692e-09\n",
      " 4.94765118e-10 4.36557457e-11 1.45519152e-11 0.00000000e+00\n",
      " 0.00000000e+00 0.00000000e+00 0.00000000e+00]\n"
     ]
    }
   ],
   "source": [
    "import numpy as np\n",
    "#K = |x*f'(x)/f(x)|\n",
    "#x è la parte variabile (in questo esercizio q)\n",
    "#lim q -> 0 di K\n",
    "#il problema è ben condizionato se f'(x) il problema è ben condzionato, se è piccolo vicino allo zero è mal condizionato\n",
    "# questa analisi la faccio trovando K e vedendo come si comporta\n",
    "#studio il limite per q che tende a zero\n",
    "#F(x) è pericolosa perchè ho la differenza fra due numeri che possono diventare vicini in modulo, posso ovviare moltiplicando numeratore e denominatore\n",
    "#per una stessa quantità eliminando la differenza e facendola diventare somma\n",
    "p = 10.0**5\n",
    "q = 10.0**(-np.arange(11))\n",
    "x = -p + np.sqrt(p**2 + q)\n",
    "print(x)\n",
    "print(\"\\nspacing\",np.spacing(p**2))\n",
    "print(\"q=\",q)\n",
    "x2 = q / (p + np.sqrt(p**2 + q))\n",
    "print(\"\\nforma stabile\",x2)\n",
    "\n",
    "F = lambda q: -p + np.sqrt(p**2 + q)\n",
    "ris = np.array([F(10**(-x)) for x in range(0,11)])\n",
    "print(\"\\nNuova forma:\",ris)"
   ]
  },
  {
   "cell_type": "markdown",
   "id": "a4e21560-1013-4ae3-aa74-6b1f27198cf5",
   "metadata": {},
   "source": [
    "## Esercizio 2"
   ]
  },
  {
   "cell_type": "markdown",
   "id": "535f46cb-ded4-4f6f-a9b0-87815d033a30",
   "metadata": {},
   "source": [
    "Realizzate un codice python che implementa il seguente algoritmo. Si tratta dell'implementazione del  metodo di Archimede per l'approssimazione di pi-greco e genera una successione di valori $p_i$, i=1,n, (n scelto dall'utente) che tende a $\\pi$. Verificare se all'aumentare di n, la successione $p_i$ tende a $\\pi$.\n",
    "\n",
    "b[0]=2\n",
    "\n",
    "s[0]=1\n",
    "\n",
    "for i in range(1,n):\n",
    "\n",
    "    p[i]=b[i-1]*s[i-1]\n",
    "    b[i]=2*b[i-1]\n",
    "     s[i]=math.sqrt((1.0-math.sqrt(1-s[i-1]**2))/2.0)\n",
    "\n",
    "- Visualizzate su un grafico gli elementi della successione p[i] calcolata Calcolate e visualizzate su un grafico l'errore relativo per ogni componente di p[i], - considerando come valore esatto di pigreco il valore math.pi.\n",
    "\n",
    "- Giustificate i risultati alla luce della teoria.\n",
    "\n",
    "- Proponete una versione stabile dell'algoritmo\n",
    "\n",
    "- Calcolate e visualizzate su un grafico l'errore relativo per ogni componente di p[i] prodotta dall'algoritmo stabilizzato, considerando come valore esatto di\n",
    "pigreco il valore math.pi."
   ]
  },
  {
   "cell_type": "code",
   "execution_count": 29,
   "id": "29164041-0e3f-4605-9164-4806b2c98443",
   "metadata": {
    "tags": []
   },
   "outputs": [
    {
     "name": "stdout",
     "output_type": "stream",
     "text": [
      "[0.         2.         2.82842712 3.06146746 3.12144515 3.13654849\n",
      " 3.14033116 3.14127725 3.1415138  3.14157294 3.14158773 3.14159142\n",
      " 3.14159235 3.14159258 3.14159263 3.14159265 3.14159265 3.14159261\n",
      " 3.14159291 3.14159413 3.14159655 3.14159655 3.14167427 3.14182968\n",
      " 3.14245127 3.14245127 3.16227766 3.16227766 3.46410162 4.\n",
      " 0.         0.         0.         0.        ] [2.00000000e+00 4.00000000e+00 8.00000000e+00 1.60000000e+01\n",
      " 3.20000000e+01 6.40000000e+01 1.28000000e+02 2.56000000e+02\n",
      " 5.12000000e+02 1.02400000e+03 2.04800000e+03 4.09600000e+03\n",
      " 8.19200000e+03 1.63840000e+04 3.27680000e+04 6.55360000e+04\n",
      " 1.31072000e+05 2.62144000e+05 5.24288000e+05 1.04857600e+06\n",
      " 2.09715200e+06 4.19430400e+06 8.38860800e+06 1.67772160e+07\n",
      " 3.35544320e+07 6.71088640e+07 1.34217728e+08 2.68435456e+08\n",
      " 5.36870912e+08 1.07374182e+09 2.14748365e+09 4.29496730e+09\n",
      " 8.58993459e+09 1.71798692e+10] [1.00000000e+00 7.07106781e-01 3.82683432e-01 1.95090322e-01\n",
      " 9.80171403e-02 4.90676743e-02 2.45412285e-02 1.22715383e-02\n",
      " 6.13588465e-03 3.06795676e-03 1.53398019e-03 7.66990319e-04\n",
      " 3.83495188e-04 1.91747597e-04 9.58737993e-05 4.79368995e-05\n",
      " 2.39684495e-05 1.19842259e-05 5.99211526e-06 2.99605995e-06\n",
      " 1.49802997e-06 7.49033514e-07 3.74535284e-07 1.87304692e-07\n",
      " 9.36523459e-08 4.71216092e-08 2.35608046e-08 1.29047841e-08\n",
      " 7.45058060e-09 0.00000000e+00 0.00000000e+00 0.00000000e+00\n",
      " 0.00000000e+00 0.00000000e+00]\n"
     ]
    },
    {
     "data": {
      "text/plain": [
       "[<matplotlib.lines.Line2D at 0x13f4e5e6f50>,\n",
       " <matplotlib.lines.Line2D at 0x13f4f635e50>]"
      ]
     },
     "execution_count": 29,
     "metadata": {},
     "output_type": "execute_result"
    },
    {
     "data": {
      "image/png": "[encoded data removed]",
      "text/plain": [
       "<Figure size 640x480 with 1 Axes>"
      ]
     },
     "metadata": {},
     "output_type": "display_data"
    }
   ],
   "source": [
    "import math\n",
    "import matplotlib.pyplot as plt\n",
    "n=34\n",
    "b = np.zeros((n,))\n",
    "s = np.zeros((n,))\n",
    "p = np.zeros((n,))\n",
    "\n",
    "b[0] = 2\n",
    "s[0] = 1\n",
    "for i in range(1,n):\n",
    "    p[i] = b[i-1]*s[i-1]\n",
    "    b[i]=2*b[i-1]\n",
    "    s[i] = math.sqrt((1.0-math.sqrt(1-s[i-1]**2))/2.0)\n",
    "print(p,b,s)\n",
    "#Trovata la forma stabile la implemento\n",
    "bs = np.zeros((n,))\n",
    "ss = np.zeros((n,))\n",
    "ps = np.zeros((n,))\n",
    "\n",
    "bs[0] = 2\n",
    "ss[0] = 1\n",
    "for i in range(1,n):\n",
    "    ps[i] = bs[i-1]*ss[i-1]\n",
    "    bs[i]=2*bs[i-1]\n",
    "    ss[i] = math.sqrt(ss[i-1]**2/(2*(1.0+math.sqrt(1-ss[i-1]**2))))\n",
    "plt.plot(np.arange(1,n),p[1:n],np.arange(1,n),ps[1:n])"
   ]
  },
  {
   "cell_type": "markdown",
   "id": "b7609125-16d1-4652-8945-8128d7ba1ca4",
   "metadata": {},
   "source": [
    "## Esercizio 3   \n",
    "Si consideri lo sviluppo in serie dell'esponenziale $e^x=1+x+\\frac{1}{2!}x^2+\\frac{1}{3!}x^3+\\cdots =\\sum_{k=0}^\\infty \\frac{x^k}{k!} $. Si calcoli un'approssimazione dell'esponenziale troncando ad N=100 termini la serie, per valori di x che variano da -10 a 10 incluso. Si calcoli  per ogni valore di x l'errore relativo del valore approssimato rispetto al valore esatto, ottenuto mediante la funzione exp della libreria numpy. Cosa si osserva? Pensare ad un algoritmo più stabile ricordando che $e^{-x}=\\frac{1}{e^{|x|}}$.\n",
    "\n"
   ]
  },
  {
   "cell_type": "code",
   "execution_count": 37,
   "id": "5e3b5653-d381-44df-96f3-758d0416787c",
   "metadata": {
    "tags": []
   },
   "outputs": [
    {
     "name": "stdout",
     "output_type": "stream",
     "text": [
      "[4.53999298e-05 1.23409804e-04 3.35462628e-04 9.11881966e-04\n",
      " 2.47875218e-03 6.73794700e-03 1.83156389e-02 4.97870684e-02\n",
      " 1.35335283e-01 3.67879441e-01 1.00000000e+00 2.71828183e+00\n",
      " 7.38905610e+00 2.00855369e+01 5.45981500e+01 1.48413159e+02\n",
      " 4.03428793e+02 1.09663316e+03 2.98095799e+03 8.10308393e+03]\n"
     ]
    }
   ],
   "source": [
    "N = 100\n",
    "ris = np.array([np.exp(i) for i in range(-10,10)])\n",
    "\n",
    "print(ris)"
   ]
  },
  {
   "cell_type": "markdown",
   "id": "0205da67-2ed7-4f56-beb7-33b5e38b8216",
   "metadata": {},
   "source": [
    "## Esercizio 4\n",
    "Calcolare l'approssimazione della derivata prima di f(x) = sin(x) in x = 1\n",
    "mediante l'algoritmo del rapporto incrementale (f(x + h) - f(x))/h per valori decrescenti\n",
    "di h, confrontandolo con il valore fornito dalla funzione di libreria per f'(x)\n",
    "mediante calcolo dell'errore relativo."
   ]
  },
  {
   "cell_type": "markdown",
   "id": "abac6a8f-c24b-4b1b-9a3f-71dc3f44fca5",
   "metadata": {},
   "source": [
    "## Esercizio 5\n",
    "Valutazione di un polinomio in un vettore di punti\n",
    "-   Realizzare una function  che mediante lo schema di Horner  valuti un polinomio in un vettore di punti.\n",
    "-   Realizzare una function  che utilizzi l’algoritmo classico per valutare un polinomio in un vettore di punti.\n",
    "-   Valutare   i seguenti polinomi, con i due metodi implementati nei punti precedenti,  sul vettore di punti specificato  e  rappresentarli graficamente. Confrontarne i tempi \n",
    "\n",
    "         p(x)=x^8-16x^7+112x^6-448x^5+1120x^4-1792x^3+1792x^2-1024x+256  da valutare su vettore di  1000000 punti equidistanti in [1.8,2.2]\n",
    "         p(x)= x^11 –8 x^9 +28 x^6 –7 x^4 +12 x^3 –4 x +1   da valutare su vettore di 1000000  punti in [-5:5]\n",
    "         \n",
    "Cosa conferma questo esperimento?\n"
   ]
  },
  {
   "cell_type": "markdown",
   "id": "eb1590d6-07fb-4447-995d-cfedd5d3a613",
   "metadata": {},
   "source": [
    "## Esercizio 6\n",
    "Realizzare un codice python che calcola il valore del polinomio p(x)=(x-2)^8 utilizzando le formule\n",
    "\n",
    "    p=x^8-16x^7+112x^6-448x^5+1120x^4-1792x^3+1792x^2-1024x+256;\n",
    "    p(x)=(x-2)^8\n",
    "    e lo schema di Horner\n",
    "\n",
    "e ne realizza il grafico in un vettore di 10000 equidistanti nell’intervallo [1.8,2.2], [1.9, 2.1],  [1.92,2.08], [1.93,2.07], [1.94,2.06] Spiegare il comportamento osservato. Cosa succede al restringersi dell’intervallo intorno al valore 2, punto in cui questo polinomio si annulla?\n"
   ]
  }
 ],
 "metadata": {
  "kernelspec": {
   "display_name": "Python 3 (ipykernel)",
   "language": "python",
   "name": "python3"
  },
  "language_info": {
   "codemirror_mode": {
    "name": "ipython",
    "version": 3
   },
   "file_extension": ".py",
   "mimetype": "text/x-python",
   "name": "python",
   "nbconvert_exporter": "python",
   "pygments_lexer": "ipython3",
   "version": "3.11.3"
  }
 },
 "nbformat": 4,
 "nbformat_minor": 5
}
