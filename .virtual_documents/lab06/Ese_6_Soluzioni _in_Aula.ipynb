





import math
import sympy as sym



def sign(x):
  """
  Funzione segno che restituisce 1 se x è positivo, 0 se x è zero e -1 se x è negativo.
  """
  return math.copysign(1, x)


def metodo_bisezione(fname, a, b, tolx):
 """
 Implementa il metodo di bisezione per il calcolo degli zeri di un'equazione non lineare.

 Parametri:
  f: La funzione da cui si vuole calcolare lo zero.
  a: L'estremo sinistro dell'intervallo di ricerca.
  b: L'estremo destro dell'intervallo di ricerca.
  tol: La tolleranza di errore.

 Restituisce:
  Lo zero approssimato della funzione, il numero di iterazioni e la lista di valori intermedi.
 """
 fa=fname(a)
 fb=fname(b)
 if sign(fa)*sign(fb)>=0:
     print("Non è possibile applicare il metodo di bisezione \n")
     return None, None,None

 it = 0
 v_xk = []

 
 maxit = math.ceil(math.log2((b - a) / tolx))-1

 
 while abs(b - a) > tolx:
    xk = a+(b-a)/2
    v_xk.append(xk)
    it += 1
    fxk=fname(xk)
    if fxk==0:
      return xk, it, v_xk

    if sign(fa)*sign(fxk)>0:  #continua su [xk,b]
      a = xk
      fa=fxk
    elif sign(fxk)*sign(fb)>0:   #continua su [a,xk]
      b = xk
      fb=fxk

 
 return xk, it, v_xk





def falsi(fname, a, b, maxit, tolx,tolf):
 """
 Implementa il metodo di falsa posizione per il calcolo degli zeri di un'equazione non lineare.

 Parametri:
  f: La funzione da cui si vuole calcolare lo zero.
  a: L'estremo sinistro dell'intervallo di ricerca.
  b: L'estremo destro dell'intervallo di ricerca.
  tolx: La tolleranza di errore sulla soluzione
  maxit= numero massuno di iterazioni
  tolf: tolleranza sulla funzione

 Restituisce:
  Lo zero approssimato della funzione, il numero di iterazioni e la lista di valori intermedi.
 """
 fa=fname(a);
 fb=fname(b);
 if sign(fa)*sign(fb)>=0:
     print("Non è possibile applicare il metodo di falsa posizione \n")
     return None, None,None

 it = 0
 v_xk = []
 
 fxk=10

 
 while it < maxit and abs(b - a) > tolx and abs(fxk) > tolf:
    xk = a-fa*(b-a)/(fb-fa)
    v_xk.append(xk)
    it += 1
    fxk=fname(xk)
    if fxk==0:
      return xk, it, v_xk

    if sign(fa)*sign(fxk)>0:  #continua su [xk,b]
      a = xk
      fa=fxk
    elif sign(fxk)*sign(fb)>0:   #continua su [a,xk]
      b = xk
      fb=fxk

 
 return xk, it, v_xk



def newton(fname,fpname,x0,tolx,tolf,nmax):
 #Corde
        xk=[]
        fx0=fname(x0)
        if fpname(x0)==0:
            print("Derivata nulla in x0")
            return None,None,None
        d=fx0/fpname(x0)
        x1=x0-d
        
        fx1=fname(x1)
        xk.append(x1)
        it=1
        
        while it<nmax and  abs(fx1)>=tolf and abs(d)>=tolx*abs(x1) :
           x0=x1
           fx0=fname(x0)
           if fpname(x0)==0:
                print("Derivata nulla in x0")
                return None,None,None
        
           d=fx0/fpname(x0)
           '''
           #x1= ascissa del punto di intersezione tra  la retta che passa per il punto
           (x0,f(x0)) ed è tangente alla funzione f(x) nel punto (x0,f(x0))  e l'asse x
           '''
           x1=x0-d  
           fx1=fname(x1)
           it=it+1
         
           xk.append(x1)
          
        if it==nmax:
            print('raggiunto massimo numero di iterazioni \n')
            
        
        return x1,it,xk


# Esempio di utilizzo
import numpy as np
import matplotlib.pyplot as plt
import sympy as sym
from sympy.utilities.lambdify import lambdify

scelta=1

if scelta==1:
    x=sym.symbols('x')
    fs =  sym.exp(-x)-(x+1)
    dfs=sym.diff(fs,x,1)
    print(dfs)
    titolo='exp(-x)-(x+1)'
    fp=lambdify(x,dfs,np)  #l'ultimo argomento np (nickaname di numpy) serve per specificare che la lambda function 
#può prendere come argomento un numpy array ed eseguire l'operazione su tutte le sue componenti.
    f=lambdify(x,fs,np)

    alfa=0
    a = -1
    b = 2
    x0=-0.5
    xm1=-0.3

if scelta==2:
    x=sym.symbols('x')
    fs =  sym.log(x+3)/sym.log(2)-2 #log_b(a)=log(a)/log(b)
    dfs=sym.diff(fs,x,1)
    print(df)
    titolo='log2(x+3)-2'
    fp=lambdify(x,dfs,np)  #l'ultimo argomento np (nickaname di numpy) serve per specificare che la lambda function 
#può prendere come argomento un numpy array ed eseguire l'operazione su tutte le sue componenti.
    f=lambdify(x,fs,np)

    alfa=1
    a = -1
    b = 2
    x0=-0.5
    xm1=0.5
    
if scelta==3:
    x=sym.symbols('x')
    fs =  sym.sqrt(x)-x**2/4
    dfs=sym.diff(fs,x,1)
    print(df)
    titolo='sqrt(x)-x**2/4'
    fp=lambdify(x,dfs,np)  #l'ultimo argomento np (nickaname di numpy) serve per specificare che la lambda function 
#può prendere come argomento un numpy array ed eseguire l'operazione su tutte le sue componenti.
    f=lambdify(x,fs,np)

    alfa=2.0**(4/3)
    a = 1
    b = 3
    x0=1.8
    xm1=1.5
       
xx=np.linspace(a,b,100)
plt.plot(xx,f(xx))
plt.title(titolo)
plt.show()
tolx = 1e-12
tolf=1e-12
maxit=1000
zero_b,it_b,xk_b = metodo_bisezione(f, a, b, tolx)
zero_f,it_f,xk_f = falsi(f, a, b, maxit, tolx,tolf)
zero_n,it_n,xk_n = newton(f, fp,x0, tolx,tolf, maxit) 

xk_b=np.array(xk_b)

if (zero_b!=None):
    print(f"Lo zero approssimato con Bisezione è  è: {zero_b}")
    print(f"f({zero_b}) = {f(zero_b)}")
    ek_b=np.abs(xk_b-alfa)

    plt.semilogy(range(it_b),ek_b,'-s')

xk_f=np.array(xk_f)
if (zero_f!=None):
    print(f"Lo zero approssimato con falsa posizione è : {zero_f}")
    ek_f=np.abs(xk_f-alfa)
    print(f"f({zero_f}) = {f(zero_f)}")
    plt.semilogy(range(it_f),ek_f,'-s')
    

xk_n=np.array(xk_n)
if (zero_n!=None):
    print(f"Lo zero approssimato è: {zero_n}")
    ek_n=np.abs(xk_n-alfa)
    print("Errore Newton",ek_n)
    print(f"f({zero}) = {f(zero_n)}")
    plt.semilogy(range(it_n),ek_n,'-*')
    
 


















