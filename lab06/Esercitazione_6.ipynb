{
 "cells": [
  {
   "cell_type": "markdown",
   "id": "bf169812-94dc-4b34-83ff-c84a3e29571a",
   "metadata": {},
   "source": [
    "## Esercitazione 6 - 26 Marzo 2024"
   ]
  },
  {
   "cell_type": "markdown",
   "id": "6776a84b-7a0a-4001-bb1c-2316249e1bb4",
   "metadata": {},
   "source": [
    "Scrivere le funzioni python `bisezione.py`, `falsi.py`, `corde.py`, `secanti.py`,`newton.py` che implementino rispettivamente il metodo di bisezione, di falsa posizione, delle corde, delle secanti e di Newton.\n",
    "\n",
    "Le funzioni `bisezione.py`, `falsi.py` devono assumere come input:\n",
    "\n",
    "-  gli estremi dell'intervallo [a,b], dominio di f.\n",
    "-  il nome `fname` della funzione di cui calcolare lo zero\n",
    "-  tol: tolleranza per il test di arresto.\n",
    "    Nel caso del metodo di bisezione e di falsa posizione si considera per il test di arresto l’ampiezza del sottointervallo confrontata con tolx.\n",
    "-  nmax= numero massimo di iterazioni\n",
    "    \n",
    "In output:\n",
    "-      lo zero della funzione\n",
    "-      il numero di iterazioni effettuate\n",
    "-      una lista contenente tutti gli iterati xk\n",
    "\n",
    "La funzione `corde.py` deve assumere come input:\n",
    "\n",
    "-  l'iterato iniziale x_0.\n",
    "-  il coefficiente angolare comune a tutte le rette\n",
    "-  il nome `fname` della funzione di cui calcolare lo zero\n",
    "-  tolx: tolleranza per il test di arresto sull'incremento:          \n",
    "               |x_k+1-x_k|/|x_k+1|<= tolx\n",
    "-  tolf: tolleranza per il test di arresto sulla funzione\n",
    "        \n",
    "                |abs(f(x_k+1)|<= tolf\n",
    "-  nmax= numero massimo di iterazioni\n",
    "    \n",
    "In output:\n",
    "-      lo zero della funzione\n",
    "-      il numero di iterazioni effettuate\n",
    "-      una lista contenente tutti gli iterati xk\n",
    "La funzione `newton.py` deve assumere come input:\n",
    "\n",
    "-  l'iterato iniziale x_0.\n",
    "-  il nome `fname` della funzione di cui calcolare lo zero\n",
    "-  il nome `fpname` della derivata prima della funzione di cui calcolare lo zero\n",
    "-  tolx: tolleranza per il test di arresto sull'incremento:          \n",
    "               |x_k+1-x_k|/|x_k+1|<= tols\n",
    "-  tolf: tolleranza per il test di arresto sulla funzione\n",
    "        \n",
    "                |abs(f(x_k+1)|<= tolf\n",
    "-  nmax= numero massimo di iterazioni\n",
    "    \n",
    "In output:\n",
    "-      lo zero della funzione\n",
    "-      il numero di iterazioni effettuate\n",
    "-      una lista contenente tutti gli iterati xk\n",
    "\n",
    "La funzione `secanti.py` deve assumere come input:\n",
    "\n",
    "-  due iterati iniziali x_1, x_0.\n",
    "-  il nome `fname` della funzione di cui calcolare lo zero\n",
    "-  tolx: tolleranza per il test di arresto sull'incremento:         \n",
    "               |x_k+1-x_k|/|x_k+1|<= tolx\n",
    "-  tolf: tolleranza per il test di arresto sulla funzione\n",
    "        \n",
    "                |abs(f(x_k+1)|<= tolf\n",
    "-  nmax= numero massimo di iterazioni\n",
    "    \n",
    "In output:\n",
    "-      lo zero della funzione\n",
    "-      il numero di iterazioni effettuate\n",
    "-      una lista contenente tutti gli iterati xk"
   ]
  },
  {
   "cell_type": "code",
   "execution_count": 1,
   "id": "3d64097e-0e0b-4404-9009-be67de2f3cf7",
   "metadata": {
    "tags": []
   },
   "outputs": [
    {
     "name": "stdout",
     "output_type": "stream",
     "text": [
      "\n",
      "BISEZIONE:  -2.2737367544323206e-13 42 [0.5, -0.25, 0.125, -0.0625, 0.03125, -0.015625, 0.0078125, -0.00390625, 0.001953125, -0.0009765625, 0.00048828125, -0.000244140625, 0.0001220703125, -6.103515625e-05, 3.0517578125e-05, -1.52587890625e-05, 7.62939453125e-06, -3.814697265625e-06, 1.9073486328125e-06, -9.5367431640625e-07, 4.76837158203125e-07, -2.384185791015625e-07, 1.1920928955078125e-07, -5.960464477539063e-08, 2.9802322387695312e-08, -1.4901161193847656e-08, 7.450580596923828e-09, -3.725290298461914e-09, 1.862645149230957e-09, -9.313225746154785e-10, 4.656612873077393e-10, -2.3283064365386963e-10, 1.1641532182693481e-10, -5.820766091346741e-11, 2.9103830456733704e-11, -1.4551915228366852e-11, 7.275957614183426e-12, -3.637978807091713e-12, 1.8189894035458565e-12, -9.094947017729282e-13, 4.547473508864641e-13, -2.2737367544323206e-13]\n",
      "errore_bisezione [5.00000000e-01 2.50000000e-01 1.25000000e-01 6.25000000e-02\n",
      " 3.12500000e-02 1.56250000e-02 7.81250000e-03 3.90625000e-03\n",
      " 1.95312500e-03 9.76562500e-04 4.88281250e-04 2.44140625e-04\n",
      " 1.22070312e-04 6.10351562e-05 3.05175781e-05 1.52587891e-05\n",
      " 7.62939453e-06 3.81469727e-06 1.90734863e-06 9.53674316e-07\n",
      " 4.76837158e-07 2.38418579e-07 1.19209290e-07 5.96046448e-08\n",
      " 2.98023224e-08 1.49011612e-08 7.45058060e-09 3.72529030e-09\n",
      " 1.86264515e-09 9.31322575e-10 4.65661287e-10 2.32830644e-10\n",
      " 1.16415322e-10 5.82076609e-11 2.91038305e-11 1.45519152e-11\n",
      " 7.27595761e-12 3.63797881e-12 1.81898940e-12 9.09494702e-13\n",
      " 4.54747351e-13 2.27373675e-13]\n",
      "\n",
      "FALSI:  3.2573943542502093e-13 22 [0.5, -0.25, 0.125, -0.0625, 0.03125, -0.015625, 0.0078125, -0.00390625, 0.001953125, -0.0009765625, 0.00048828125, -0.000244140625, 0.0001220703125, -6.103515625e-05, 3.0517578125e-05, -1.52587890625e-05, 7.62939453125e-06, -3.814697265625e-06, 1.9073486328125e-06, -9.5367431640625e-07, 4.76837158203125e-07, -2.384185791015625e-07, 1.1920928955078125e-07, -5.960464477539063e-08, 2.9802322387695312e-08, -1.4901161193847656e-08, 7.450580596923828e-09, -3.725290298461914e-09, 1.862645149230957e-09, -9.313225746154785e-10, 4.656612873077393e-10, -2.3283064365386963e-10, 1.1641532182693481e-10, -5.820766091346741e-11, 2.9103830456733704e-11, -1.4551915228366852e-11, 7.275957614183426e-12, -3.637978807091713e-12, 1.8189894035458565e-12, -9.094947017729282e-13, 4.547473508864641e-13, -2.2737367544323206e-13]\n",
      "errore_falsi [4.60670529e-01 1.19056188e-01 3.13027616e-02 8.26105717e-03\n",
      " 2.18219309e-03 5.76575193e-04 1.52351389e-04 4.02572581e-05\n",
      " 1.06376059e-05 2.81089169e-06 7.42753078e-07 1.96265898e-07\n",
      " 5.18615197e-08 1.37039458e-08 3.62114583e-09 9.56855706e-10\n",
      " 2.52840637e-10 6.68107791e-11 1.76543224e-11 4.66515715e-12\n",
      " 1.23279165e-12 3.25739435e-13]\n",
      "Derivata in analisi:  -1 - exp(-x)\n",
      "\n",
      "NEWTON:  -6.242314416285365e-15 3 [-0.0007953249925138697, -1.581564140845865e-07, -6.242314416285365e-15]\n",
      "errore_newton [7.95324993e-04 1.58156414e-07 6.24231442e-15]\n"
     ]
    },
    {
     "data": {
      "text/plain": [
       "[<matplotlib.lines.Line2D at 0x768c5cebb650>]"
      ]
     },
     "execution_count": 1,
     "metadata": {},
     "output_type": "execute_result"
    },
    {
     "data": {
      "image/png": "[encoded data removed]",
      "text/plain": [
       "<Figure size 640x480 with 1 Axes>"
      ]
     },
     "metadata": {},
     "output_type": "display_data"
    }
   ],
   "source": [
    "import numpy as np\n",
    "from bisezione import bisezione\n",
    "from falsi import falsi\n",
    "from newton import newton\n",
    "from derivata import derivata\n",
    "import matplotlib.pyplot as plt\n",
    "import sympy as sym\n",
    "\n",
    "f = lambda x: np.exp(-x)-(x+1)\n",
    "a = -1.0\n",
    "b = 2.0\n",
    "xx = np.linspace(a,b,200)\n",
    "plt.plot(xx,f(xx))\n",
    "\n",
    "#BISEZIONE\n",
    "zero_b, it_bis, v_xk_b = bisezione(f,a,b,1e-12)\n",
    "print(\"\\nBISEZIONE: \",zero_b, it_bis, v_xk_b)\n",
    "alfa = 0\n",
    "err_bis = np.abs(np.array(v_xk_b)-alfa)\n",
    "print(\"errore_bisezione\", err_bis)\n",
    "plt.semilogy(range(it_bis),err_bis,'-o')\n",
    "\n",
    "\n",
    "#FALSI\n",
    "zero_f, it_fals, v_xk_f = falsi(f,a,b,1e-12,1e-12,1000)\n",
    "print(\"\\nFALSI: \",zero_f, it_fals, v_xk_b)\n",
    "alfa = 0\n",
    "err_falsi = np.abs(np.array(v_xk_f)-alfa)\n",
    "print(\"errore_falsi\", err_falsi)\n",
    "plt.semilogy(range(it_fals),err_falsi,'-o')\n",
    "\n",
    "\n",
    "#NEWTON\n",
    "x0 = 0.5\n",
    "tolx = 1e-12\n",
    "tolf = 1e-12\n",
    "nmax = 500\n",
    "#derivata\n",
    "x = sym.symbols('x')\n",
    "fs = sym.exp(-x)-(x+1)\n",
    "fp = derivata(x,fs)\n",
    "\n",
    "zero_newton, it_n, v_xk_n = newton(f,fp,x0,tolx,tolf,nmax)\n",
    "print(\"\\nNEWTON: \",zero_newton, it_n, v_xk_n)\n",
    "err_newton = np.abs(np.array(v_xk_n)-alfa)\n",
    "print(\"errore_newton\", err_newton)\n",
    "plt.semilogy(range(it_n),err_newton,'-o')"
   ]
  },
  {
   "cell_type": "markdown",
   "id": "20bbe42c-264f-40aa-887c-1505be3c0d50",
   "metadata": {},
   "source": [
    "**Sperimentazione numerica**"
   ]
  },
  {
   "cell_type": "markdown",
   "id": "22339d84-a5cc-4950-a537-104611a315f8",
   "metadata": {},
   "source": [
    " Confrontare i metodi sopra implementati nei casi seguenti:\n",
    "\n",
    "- f(x) = exp(−x) − (x + 1) in [−1, 2] con x0 = −0.5, x−1 = −0.3, tolx = 1.e − 12, tolf = 1.e − 12, (soluzione esatta alfa=0);\n",
    "- f(x) = log2(x + 3) − 2 in [−1, 2] con x0 = −0.5, x−1 = 0.5, tolx = 1.e − 12, tolf = 1.e − 12, (soluzione esatta alfa=1);\n",
    "- f(x) =sqrt(x)-(x^2)/4 in [1, 3] con x0 = 1.8, x−1 = 1.5, tolx = 1.e − 12, tolf =1.e − 12, (soluzione esatta alfa=2**(4/3))\n",
    "\n",
    "Mostrare in un grafico in scala semilogaritmica sulle ordinate (comando semilogy) l’andamento di ek = |xk − α|, k = 1, ..., nit, sapendo che α = 0, 1, 2**(4/3) nei\n",
    "tre casi.\n",
    "Calcolare infine, a partire dai valori di {xk} con k sufficientemente grande, la stima dell’ordine di convergenza p come\n",
    "\n",
    "p= ln (|x_{k+1}-x_k|/|x_k-x_{k-1}|)/ln (|x_k-x_{k-1}|/|x_{k-1}-x_{k-2}|)"
   ]
  },
  {
   "cell_type": "code",
   "execution_count": 2,
   "id": "b24e05a7",
   "metadata": {},
   "outputs": [
    {
     "name": "stdout",
     "output_type": "stream",
     "text": [
      "Andamento degli errori sulle 3 funzioni tramite bisezione\n",
      "Risultati bisezione: -2.2737367544323206e-13 1.0000000000002274 2.5198420997903668\n",
      "Derivata in analisi:  -1 - exp(-x)\n",
      "Derivata in analisi:  1/((x + 3)*log(2))\n",
      "Derivata in analisi:  -x/2 + 1/(2*sqrt(x))\n",
      "ERRORE NEWTOWN: [1.11102845e-03 3.08653167e-07 2.37917867e-14]\n",
      "Andamento degli errori sulle 3 funzioni tramite newton\n",
      "Risultati newton: -2.3791786736070093e-14 1.0000000000000002 2.5198420997897464\n"
     ]
    },
    {
     "data": {
      "image/png": "[encoded data removed]",
      "text/plain": [
       "<Figure size 640x480 with 1 Axes>"
      ]
     },
     "metadata": {},
     "output_type": "display_data"
    }
   ],
   "source": [
    "from bisezione import bisezione\n",
    "from falsi import falsi\n",
    "from newton import newton\n",
    "from derivata import derivata\n",
    "import numpy as np\n",
    "import matplotlib.pyplot as plt\n",
    "import sympy as sym\n",
    "\n",
    "f1 = lambda x: np.exp(-x)-(x+1)\n",
    "a1 = -1\n",
    "b1 = 2\n",
    "x01 = -0.5\n",
    "tolx1 = 1e-12\n",
    "tolf1 = 1e-12\n",
    "\n",
    "f2 = lambda x: np.log2(x+3)-2\n",
    "a2 = -1\n",
    "b2 = 2\n",
    "x02 = 0.5\n",
    "tolx2 = 1e-12\n",
    "tolf2 = 1e-12\n",
    "\n",
    "f3 = lambda x: np.sqrt(x)-(x**2)/4\n",
    "a3 = 1\n",
    "b3 = 3\n",
    "x03 = 1.8\n",
    "tolx3 = 1e-12\n",
    "tolf3 = 1e-12\n",
    "\n",
    "#BISEZIONE\n",
    "zero_b1, it_bis1, v_xk_b1 = bisezione(f1,a1,b1,tolx1)\n",
    "zero_b2, it_bis2, v_xk_b2 = bisezione(f2,a2,b2,tolx2)\n",
    "zero_b3, it_bis3, v_xk_b3 = bisezione(f3,a3,b3,tolx3)\n",
    "alfa1 = 0\n",
    "alfa2 = 1\n",
    "alfa3 = 2**(4/3)\n",
    "err_bis1 = np.abs(np.array(v_xk_b1)-alfa1)\n",
    "err_bis2 = np.abs(np.array(v_xk_b2)-alfa2)\n",
    "err_bis3 = np.abs(np.array(v_xk_b3)-alfa3)\n",
    "print(\"Andamento degli errori sulle 3 funzioni tramite bisezione\")\n",
    "plt.semilogy(range(it_bis1),err_bis1,'-o')\n",
    "plt.semilogy(range(it_bis2),err_bis2,'-o')\n",
    "plt.semilogy(range(it_bis3),err_bis3,'-o')\n",
    "print(\"Risultati bisezione:\",zero_b1,zero_b2,zero_b3)\n",
    "\n",
    "#NEWTON\n",
    "#derivata\n",
    "x = sym.symbols('x')\n",
    "fs1 = sym.exp(-x)-(x+1)\n",
    "fs2 = sym.log(x+3, 2)-2\n",
    "fs3 = sym.sqrt(x)-(x**2)/4\n",
    "\n",
    "fp1 = derivata(x,fs1)\n",
    "fp2 = derivata(x,fs2)\n",
    "fp3 = derivata(x,fs3)\n",
    "\n",
    "nmax = 500\n",
    "zero_n1, it_new1, v_xk_n1 = newton(f1,fp1,x01,tolx1,tolf1,nmax)\n",
    "zero_n2, it_new2, v_xk_n2 = newton(f2,fp2,x02,tolx2,tolf2,nmax)\n",
    "zero_n3, it_new3, v_xk_n3 = newton(f3,fp3,x03,tolx3,tolf3,nmax)\n",
    "alfa1 = 0\n",
    "alfa2 = 1\n",
    "alfa3 = 2**(4/3)\n",
    "err_new1 = np.abs(np.array(v_xk_n1)-alfa1)\n",
    "print(\"ERRORE NEWTOWN:\",err_new1)\n",
    "err_new2 = np.abs(np.array(v_xk_n2)-alfa2)\n",
    "err_new3 = np.abs(np.array(v_xk_n3)-alfa3)\n",
    "print(\"Andamento degli errori sulle 3 funzioni tramite newton\")\n",
    "plt.semilogy(range(it_new1),err_new1,'-o')\n",
    "plt.semilogy(range(it_new2),err_new2,'-o')\n",
    "plt.semilogy(range(it_new3),err_new3,'-o')\n",
    "print(\"Risultati newton:\",zero_n1,zero_n2, zero_n3)\n"
   ]
  },
  {
   "cell_type": "markdown",
   "id": "deaeb530-4fe7-4ded-9f34-449ef48fa995",
   "metadata": {},
   "source": [
    "- Utilizzare il metodo di Newton e il metodo di Newton modificato per il calcolo\n",
    "dello zero di molteplicita' 2 della funzione f(x) = \n",
    "x^3 + x^2− 33x + 63 con x0 = 1,\n",
    "tolx = 1.e − 12 e tolf = 1.e − 12. Calcolare infine, a partire dai valori di {xk}\n",
    "ottenuti nei due casi, la stima dell’ordine di convergenza p."
   ]
  },
  {
   "cell_type": "code",
   "execution_count": 3,
   "id": "98569afd",
   "metadata": {},
   "outputs": [
    {
     "name": "stdout",
     "output_type": "stream",
     "text": [
      "Derivata in analisi:  3*x**2 + 2*x - 33\n",
      "Risultato: 2.9999997701371615 Iterazioni totali: 22\n"
     ]
    }
   ],
   "source": [
    "import sympy as sym\n",
    "from derivata import derivata\n",
    "from newton import newton\n",
    "\n",
    "F = lambda x: (x**3) + (x**2) - (33*x) + 63\n",
    "x0 = 1e-12\n",
    "tolf = 1e-12\n",
    "\n",
    "x = sym.symbols('x')\n",
    "fs = (x**3) + (x**2) - (33*x) + 63\n",
    "Fp = derivata(x,fs)\n",
    "\n",
    "ris,it,iterated = newton(F,Fp,x0,tolf,tolf,500)\n",
    "print(\"Risultato:\",ris,\"Iterazioni totali:\",it)"
   ]
  },
  {
   "cell_type": "markdown",
   "id": "d9787fdd-725e-4803-b148-8a137e4335c8",
   "metadata": {},
   "source": [
    "- Utilizzare il metodo di bisezione ed il metodo di Newton per calcolare la radice quadrata di 2. Analizzate i risultati."
   ]
  },
  {
   "cell_type": "markdown",
   "id": "fc00ebed-d9db-4223-aeac-9618852c74d2",
   "metadata": {},
   "source": [
    "- Utilizzare il metodo di Newton per determinare le radici dell’equazione f (x) = \n",
    "rcatan(x) con x0 = 1.2, 1.4 assumendo tolx = 1.e − 6 e tolf = 1.e − 5. Che cos a\n",
    "si osserva?"
   ]
  },
  {
   "cell_type": "markdown",
   "id": "c149b9e1-3beb-4f1f-bc60-9e4c9ecee1e6",
   "metadata": {},
   "source": [
    "**Soluzione di sistemi non lineari**"
   ]
  },
  {
   "cell_type": "markdown",
   "id": "6ffd1881-6df4-426e-a962-3a5318513229",
   "metadata": {},
   "source": [
    "\n",
    "- Scrivere la function `NewtonRaphson.py`, che implementa il metodo di Newton-Raphson\n",
    "per il calcolo della soluzione di un sistema di equazioni non lineari. \n",
    "\n",
    "    Tale function\n",
    "deve assumere come dati in input:\n",
    "- fname: nome della funzione vettoriale di cui calcolare lo zero;\n",
    "- JacName: nome della funzione che calcola lo J acobiano della funzione vettoriale;\n",
    "- X0: vettore contenente le componenti dell'iterato iniziale);\n",
    "- tolx tolleranza  per il test d'arresto sull'incremento\n",
    "        ||X_{k+1}-X_k||/||X_{k}||>= tolx\n",
    "- tolf tolleranza per il test del residuo\n",
    "        ||F(Xk+1)|| >= tolf;\n",
    "- NMAX numero massimo di iterazioni.\n",
    "In output devono essere restituiti il vettore contenente l'approssimazione dello zero x, un vettore contenente l'errore relativo tra due iterati successivi, il numero di iterazioni\n",
    "effettuate, nit.\n"
   ]
  },
  {
   "cell_type": "code",
   "execution_count": 4,
   "id": "c917e909-692d-42fc-a502-b6865ba6b618",
   "metadata": {},
   "outputs": [],
   "source": [
    "\n",
    "#importato da newtonRaphson.py, guardare li"
   ]
  },
  {
   "cell_type": "markdown",
   "id": "d0853020-340b-422b-bd4d-a2d780b7fc2f",
   "metadata": {},
   "source": [
    "**Sperimentazione Numerica**"
   ]
  },
  {
   "cell_type": "markdown",
   "id": "593eac55-b48c-4454-b0e8-73338f053717",
   "metadata": {},
   "source": [
    "Risolvere i seguenti tre sistemi non lineari:\n",
    "\n",
    "1) \n",
    "\n",
    "   2x0-cos(x1)=0\n",
    "\n",
    "   sin(x0)+2x1=0\n",
    "\n",
    "2) \n",
    "\n",
    "   x0^2+x1^2-9=0\n",
    "\n",
    "   x0+x1-3=0\n",
    "\n",
    "3) \n",
    "\n",
    "   4x0^2+x_1^2=4\n",
    "\n",
    "   x0+x1=sin(x0-x1)\n",
    "\n"
   ]
  },
  {
   "cell_type": "code",
   "execution_count": 1,
   "id": "b4390206-4345-45ef-a314-bfc8f3a98cdf",
   "metadata": {},
   "outputs": [
    {
     "name": "stdout",
     "output_type": "stream",
     "text": [
      "\n",
      " Caso 1\n",
      "Arresto sulla tolleranza dell'incremento\n",
      "Arresto sulla tolleranza del residuo\n",
      "\n",
      " soluzione:  [ 0.48640516 -0.23372551] \n",
      " errore:  [0.42823462024564896, 0.047129426330931465, 0.0003156924718262943] \n",
      " Iterazioni eseguite:  3\n",
      "\n",
      " Caso 2\n",
      "Arresto sulla tolleranza dell'incremento\n",
      "\n",
      " soluzione:  [-4.57770657e-05  3.00004578e+00] \n",
      " errore:  [0.27439773622801406, 0.08302702896776125, 0.005502734524915584] \n",
      " Iterazioni eseguite:  3\n",
      "\n",
      " Caso 3\n",
      "Arresto sulla tolleranza dell'incremento\n",
      "Arresto sulla tolleranza del residuo\n",
      "\n",
      " soluzione:  [-0.99860284  0.10569443] \n",
      " errore:  [0.7622558361916743, 0.49383514090725084, 0.27709508952362544, 0.4805888399606107, 0.2741580905557939, 0.19140732301022764, 0.06348734224984376, 0.011239324423020145, 0.0013547533801937233] \n",
      " Iterazioni eseguite:  9\n"
     ]
    },
    {
     "data": {
      "text/plain": [
       "[<matplotlib.lines.Line2D at 0x76277cae9c30>]"
      ]
     },
     "execution_count": 1,
     "metadata": {},
     "output_type": "execute_result"
    },
    {
     "data": {
      "image/png": "[encoded data removed]",
      "text/plain": [
       "<Figure size 640x480 with 1 Axes>"
      ]
     },
     "metadata": {},
     "output_type": "display_data"
    }
   ],
   "source": [
    "from newtonRaphson import newtonRaphson\n",
    "import numpy as np\n",
    "import matplotlib.pyplot as plt\n",
    "\n",
    "x0 = np.array([1,2])\n",
    "\n",
    "#1)\n",
    "print(\"\\n Caso 1\")\n",
    "fname = lambda x: np.array([ \n",
    "    2*x[0]-np.cos(x[1]), \n",
    "    np.sin(x[0])+2*x[1] \n",
    "]) #sistema con f\n",
    "\n",
    "#Costruisco lo Jacobiano di questo sistema\n",
    "Jac = lambda x: np.array([\n",
    "    [ 2,np.sin(x[1]) ],\n",
    "    [ np.cos(x[0]),2 ]\n",
    "]) #matrice Jacobbiana con dfxi/xj\n",
    "ris,err,it = newtonRaphson(fname,Jac,x0,1e-2,1e-2,500)\n",
    "plt.semilogy(range(it),err,'-or')\n",
    "\n",
    "#2)\n",
    "print(\"\\n Caso 2\")\n",
    "fname = lambda x: np.array([ \n",
    "    x[0]**2 + x[1]**2 - 9,\n",
    "    x[0] + x[1] - 3\n",
    "]) #sistema con f\n",
    "\n",
    "#Costruisco lo Jacobiano di questo sistema\n",
    "Jac = lambda x: np.array([ \n",
    "    [ 2*x[0], 2*x[1] ],\n",
    "    [1,1]\n",
    "]) #matrice Jacobbiana con dfxi/xj\n",
    "ris,err,it = newtonRaphson(fname,Jac,x0,1e-2,1e-2,500)\n",
    "plt.semilogy(range(it),err,'-og')\n",
    "\n",
    "#3)\n",
    "print(\"\\n Caso 3\")\n",
    "fname = lambda x: np.array([ \n",
    "    4*(x[0]**2) + x[1]**2 - 4,\n",
    "    x[0] + x[1] - np.sin(x[0] - x[1])\n",
    "]) #sistema con f\n",
    "\n",
    "#Costruisco lo Jacobiano di questo sistema\n",
    "Jac = lambda x: np.array([\n",
    "    [ 8*x[0], 2*x[1] ],\n",
    "    [ 1 - np.cos(x[0] + x[1]), 1 + np.cos(x[0] + x[1]) ]\n",
    "]) #matrice Jacobbiana con dfxi/xj\n",
    "ris,err,it = newtonRaphson(fname,Jac,x0,1e-2,1e-2,500)\n",
    "plt.semilogy(range(it),err,'-oy')\n",
    "\n"
   ]
  },
  {
   "cell_type": "markdown",
   "id": "2c279af1-357d-42ae-9669-d5160b0b6054",
   "metadata": {},
   "source": [
    "Servirsi del metodo grafico per individuare un \n",
    "iterato iniziale  $X_0$  nell'intorno della soluzione che si vuole approssimare. Visualizzare le \n",
    "curve di livello corrisponenti a z=0 delle due superfici z1 = f1 (x0 ,x1 ) e z2 = f2(x0, x1 ) e \n",
    "definire come iterato iniziale un vettore $X_0$ oppurtuno le cui componenti stanno in un \n",
    "intorno della soluzione (punti di intersezione tra le curve di livello delle due superfici) \n",
    " "
   ]
  },
  {
   "cell_type": "code",
   "execution_count": null,
   "id": "d4dab370-8c48-4dc4-9433-8284270b57bf",
   "metadata": {
    "tags": []
   },
   "outputs": [],
   "source": [
    "from mpl_toolkits.mplot3d import Axes3D\n",
    "#discretizzo x e y\n",
    "x = np.arange(-4.0,4.0,0.1)\n",
    "y = np.arange(-4.0,4.0,0.1)\n",
    "#Vorrei un metodo che mi discretizza tutti i punti dentro la griglia rappresentata e valutata nel piano 3D\n",
    "X,Y = np.meshgrid(x,y)\n",
    "Z1 = 2*X-np.cos(Y)\n",
    "Z2 = np.sin(X)+2*Y\n",
    "fig = plt.figure()\n",
    "ax = fig.add_subplot(111,projection='3d')\n",
    "ax.plot_surface(X,Y,Z1)\n",
    "plt.show()"
   ]
  },
  {
   "cell_type": "code",
   "execution_count": null,
   "id": "617ba867-8c77-4909-a926-2fd79e45ed97",
   "metadata": {
    "tags": []
   },
   "outputs": [],
   "source": [
    "plt.contour(X,Y,Z1,levels=[0],colors='black')\n",
    "plt.contour(X,Y,Z2,levels=[0],colors='red')\n",
    "plt.show()"
   ]
  },
  {
   "cell_type": "code",
   "execution_count": null,
   "id": "e7da0efa-3146-41d2-a592-476d756b0041",
   "metadata": {},
   "outputs": [],
   "source": []
  },
  {
   "cell_type": "code",
   "execution_count": null,
   "id": "36366a00-eede-44b1-ac17-5793438b98e8",
   "metadata": {},
   "outputs": [],
   "source": []
  }
 ],
 "metadata": {
  "kernelspec": {
   "display_name": "Python 3 (ipykernel)",
   "language": "python",
   "name": "python3"
  },
  "language_info": {
   "codemirror_mode": {
    "name": "ipython",
    "version": 3
   },
   "file_extension": ".py",
   "mimetype": "text/x-python",
   "name": "python",
   "nbconvert_exporter": "python",
   "pygments_lexer": "ipython3",
   "version": "3.11.3"
  }
 },
 "nbformat": 4,
 "nbformat_minor": 5
}
