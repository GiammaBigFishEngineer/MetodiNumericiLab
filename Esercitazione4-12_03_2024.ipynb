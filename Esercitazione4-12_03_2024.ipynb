{
 "cells": [
  {
   "cell_type": "markdown",
   "id": "b97be3ab-d6dd-495f-a342-e5e837cfb8bc",
   "metadata": {},
   "source": [
    "#                       Esercitazione 4 - 12 Marzo 2023"
   ]
  },
  {
   "cell_type": "markdown",
   "id": "8c87694a-727f-410f-a307-3f35f0dcc933",
   "metadata": {},
   "source": [
    "Esplorate le caratteristiche dell'insieme dei numeri di macchina F($\\beta$,t,L,U) sul vostro calcolatore utilizzando il comando sys.float_info, dopo aver importato im modulo sys:\n",
    "\n",
    "import sys\n",
    "\n",
    "print(sys.float_info)"
   ]
  },
  {
   "cell_type": "code",
   "execution_count": 18,
   "id": "41befe1d-4b51-40b3-a8bc-db8b2d2b886e",
   "metadata": {
    "tags": []
   },
   "outputs": [
    {
     "name": "stdout",
     "output_type": "stream",
     "text": [
      "sys.float_info(max=1.7976931348623157e+308, max_exp=1024, max_10_exp=308, min=2.2250738585072014e-308, min_exp=-1021, min_10_exp=-307, dig=15, mant_dig=53, epsilon=2.220446049250313e-16, radix=2, rounds=1)\n"
     ]
    }
   ],
   "source": [
    "import sys\n",
    "import numpy as np\n",
    "import matplotlib.pyplot as plt\n",
    "print(sys.float_info)"
   ]
  },
  {
   "cell_type": "markdown",
   "id": "82c24c2e-15d3-4e96-8436-8a2c4b01011b",
   "metadata": {},
   "source": [
    "min_exp=-1021   (L=-1021-1=-1022)\n",
    "\n",
    "max_exp=1024    (U=1024-1=1023)\n",
    "\n",
    "mant_dig=53 (incluso l'hidden bit) #bit della mantissa\n",
    "\n",
    "dig=15, significa che i numeri \"float\" vengono convertiti in stringhe con un massimo di 15 cifre decimali. Le cifre decimali oltre la quindicesima vengono eliminate (troncate). (solo a livello di stringa visualizzata)"
   ]
  },
  {
   "cell_type": "markdown",
   "id": "224ac7e6-31df-4f15-8ffc-9c82bd21c82e",
   "metadata": {},
   "source": [
    "- **1.**  Calcolare lo spacing in  $[2^{52}, 2^{53}]$.\n",
    "    - Sia $x=2^{52}$ individuare il numero successivo a $2^{52}$ ed assegnarlo ad una variabile  y.\n",
    "    - Cosa succede se consideriamo il valore z=x+0.5?\n",
    "    - Cosa succede se consideriamo il valore q=y+0.5?\n",
    "  "
   ]
  },
  {
   "cell_type": "code",
   "execution_count": 19,
   "id": "38919d36-f01a-4afb-b8ce-073d5405dc4c",
   "metadata": {
    "tags": []
   },
   "outputs": [
    {
     "name": "stdout",
     "output_type": "stream",
     "text": [
      "X 4503599627370496 Y 4503599627370498 Z 4503599627370496.0 Q 4503599627370498.0 S: 2\n"
     ]
    }
   ],
   "source": [
    "def calculate_spacing(B,p):\n",
    "    t = sys.float_info.mant_dig\n",
    "    s = B**((p+1)-t)\n",
    "    return s\n",
    "\n",
    "x = 2**52;\n",
    "y = x + calculate_spacing(2,53)\n",
    "z = x + 0.5\n",
    "q = y + 0.5\n",
    "print(\"X\",x,\"Y\",y,\"Z\",z,\"Q\",q,\"S:\",calculate_spacing(2,53))"
   ]
  },
  {
   "cell_type": "markdown",
   "id": "c73d1758-eb82-48af-8618-6dfb522dcdd6",
   "metadata": {},
   "source": [
    "- **2** Calcolare la cardinalità dell'insieme dei numeri finiti di Python"
   ]
  },
  {
   "cell_type": "code",
   "execution_count": 20,
   "id": "20b01f51-2122-40a7-8d59-57f0949e4d8a",
   "metadata": {
    "tags": []
   },
   "outputs": [
    {
     "name": "stdout",
     "output_type": "stream",
     "text": [
      "1023 -1022\n"
     ]
    }
   ],
   "source": [
    "L = sys.float_info.max_exp - 1\n",
    "U = sys.float_info.min_exp - 1\n",
    "print(L,U)"
   ]
  },
  {
   "cell_type": "markdown",
   "id": "cee853bd-aca6-47f4-980f-7e44473f7523",
   "metadata": {},
   "source": [
    "- **3**  Verificare numericamente che $\\texttt{eps} = 2^{-52}$, spacing nell'intervallo $[1, 2]$,\n",
    "è il piu' piccolo $x$ tale che $fl(1 + x)$ è  diverso da $1$. \n"
   ]
  },
  {
   "cell_type": "code",
   "execution_count": 21,
   "id": "8a777fda-b499-49ce-b65b-6d742d1ab787",
   "metadata": {
    "tags": []
   },
   "outputs": [
    {
     "name": "stdout",
     "output_type": "stream",
     "text": [
      "2.220446049250313e-16 euqals to 2.220446049250313e-16\n",
      "1.0000000000000002 diverso da 1\n"
     ]
    }
   ],
   "source": [
    "eps = calculate_spacing(2,0)\n",
    "print(eps,\"euqals to\",2**(-52))\n",
    "print(1 + eps, \"diverso da 1\")"
   ]
  },
  {
   "cell_type": "markdown",
   "id": "35d7206c-f742-4616-b92c-91b37127a4d3",
   "metadata": {},
   "source": [
    "- **4** Costruire un numpy array costituito da n=10 valori tutti uguali a 0.1\n",
    "-     Effettuate la somma utilizzando un ciclo for.\n",
    "-     Effettuate la somma effettuando la somma con la funzione sum del modulo numpy.\n",
    "  Cosa osservate? Cercate di giustificare i risultati "
   ]
  },
  {
   "cell_type": "code",
   "execution_count": 22,
   "id": "21ae12dc-b2ae-4857-9e35-8eeb6de8ebbf",
   "metadata": {
    "tags": []
   },
   "outputs": [
    {
     "name": "stdout",
     "output_type": "stream",
     "text": [
      "Ciclo for: 0.9999999999999999 NUmpy: 1.0\n"
     ]
    }
   ],
   "source": [
    "arr = np.full((1,10),0.1)\n",
    "ss = 0\n",
    "for x in arr[0]:\n",
    "    ss += x\n",
    "second_sum = np.sum(arr)\n",
    "print(\"Ciclo for:\", ss, \"NUmpy:\", second_sum)"
   ]
  },
  {
   "cell_type": "markdown",
   "id": "d19cd104-d1ea-4444-996c-0a9672063450",
   "metadata": {},
   "source": [
    "- **5.** Siano $a=1.234567890123400 e+15$, $b=-1.234567890123401 e+15$, $c=0.06$. \n",
    "  Calcolare $(a+b)+c$, $(a+c)+b$, $a+(b+c)$. Che cosa si osserva? Ripetere l'esercizio con $a=0.23371258 e-4$, $b=0.33678429 e+2$, $c=-0.33677911 e+2$."
   ]
  },
  {
   "cell_type": "code",
   "execution_count": 23,
   "id": "29d6bc84-1939-4e5a-a77e-325cd11c0112",
   "metadata": {
    "tags": []
   },
   "outputs": [
    {
     "name": "stdout",
     "output_type": "stream",
     "text": [
      "FIRST RIS: -0.94 -1.0 -1.0\n",
      "SECOND RIS: 0.0005413712580022434 0.0005413712580022434 0.0005413712579995743\n"
     ]
    }
   ],
   "source": [
    "a=1.234567890123400e+15\n",
    "b=-1.234567890123401e+15 \n",
    "c=0.06\n",
    "ris = (a+b)+c\n",
    "ris1 = (a+c)+b \n",
    "ris2 = a+(b+c)\n",
    "print(\"FIRST RIS:\",ris,ris1,ris2)\n",
    "\n",
    "a=0.23371258e-4\n",
    "b=0.33678429e+2\n",
    "c=-0.33677911e+2\n",
    "ris = (a+b)+c\n",
    "ris1 = (a+c)+b \n",
    "ris2 = a+(b+c)\n",
    "print(\"SECOND RIS:\",ris,ris1,ris2)\n",
    "\n",
    "\n"
   ]
  },
  {
   "cell_type": "markdown",
   "id": "960d25c1-9677-4b1e-92c1-c16870d520b6",
   "metadata": {},
   "source": [
    "- **6.** Si considerino le espressioni $y_1=\\sqrt{x^2+1}-x$ e $y_2=\\frac{1}{\\sqrt{x^2+1}+x}$. Calcolare il valore di $y_1$ e $y_2$ per $x=7777$ e $x=77777777$. Che cosa si osserva? Commentare i risultati ottenuti."
   ]
  },
  {
   "cell_type": "code",
   "execution_count": 24,
   "id": "4bf34efe-882d-4f41-9e5c-bc7c420ba0e9",
   "metadata": {
    "tags": []
   },
   "outputs": [
    {
     "name": "stdout",
     "output_type": "stream",
     "text": [
      "7777.000064292143 6.429214323431402e-05 77777777.0 6.428571492857143e-09\n"
     ]
    }
   ],
   "source": [
    "import math\n",
    "x1 = 7777\n",
    "x2 = 77777777\n",
    "def calc_y1(x):\n",
    "    return math.sqrt(x**2 + 1)\n",
    "def calc_y2(x):\n",
    "    return 1/(math.sqrt(x**2 + 1) + x)\n",
    "print(calc_y1(x1),calc_y2(x1),calc_y1(x2), calc_y2(x2))"
   ]
  },
  {
   "cell_type": "markdown",
   "id": "e3d8c3b3-d514-41ec-a6f2-eb22311ab157",
   "metadata": {},
   "source": [
    "- **7.** Valutare in aritmetica floating point l'espressione\n",
    "$$A(x)=\\frac{1}{x}-\\frac{1}{(x+1)}$$  nel vettore   $x=[10^0, 10^1,... ,10^{20}]$ contenente potenze successive  di $10$,  Si calcoli per ogni elemento di x l'errore relativo considerando come valore esatto quello calcolato usando  l'espressione algebricamente equivalente\n",
    "$$\n",
    "B(x)=\\frac{1}{x (x+1)}.\n",
    "$$ Si visualizzi l'errore relativo in un grafico in scala logaritmica su $x$ e $y$"
   ]
  },
  {
   "cell_type": "code",
   "execution_count": 36,
   "id": "8f4bd748-bec0-4072-923c-c3bc5be31f91",
   "metadata": {
    "tags": []
   },
   "outputs": [
    {
     "name": "stdout",
     "output_type": "stream",
     "text": [
      "spacing:  [2.22044605e-16 1.77635684e-15 1.42108547e-14 1.13686838e-13\n",
      " 1.81898940e-12 1.45519152e-11 1.16415322e-10 1.86264515e-09\n",
      " 1.49011612e-08 1.19209290e-07 1.90734863e-06 1.52587891e-05\n",
      " 1.22070312e-04 1.95312500e-03 1.56250000e-02 1.25000000e-01\n",
      " 2.00000000e+00 1.60000000e+01 1.28000000e+02 2.04800000e+03\n",
      " 1.63840000e+04]\n",
      "[5.00000000e-01 9.09090909e-03 9.90099010e-05 9.99000999e-07\n",
      " 9.99900010e-09 9.99990000e-11 9.99999000e-13 9.99999899e-15\n",
      " 1.00000000e-16 1.00000015e-18 1.00000061e-20 9.99999968e-23\n",
      " 1.00004844e-24 1.00090672e-26 9.93964741e-29 9.86076132e-31\n",
      " 0.00000000e+00 0.00000000e+00 0.00000000e+00 0.00000000e+00\n",
      " 0.00000000e+00] [2.         1.1        1.01       1.001      1.0001     1.00001\n",
      " 1.000001   1.0000001  1.00000001 1.         1.         1.\n",
      " 1.         1.         1.         1.         1.         1.\n",
      " 1.         1.         1.        ]\n",
      "PERCENTUALE ERRORE: [0.75       0.99173554 0.99990197 0.999999   0.99999999 1.\n",
      " 1.         1.         1.         1.         1.         1.\n",
      " 1.         1.         1.         1.         1.         1.\n",
      " 1.         1.         1.        ]\n"
     ]
    },
    {
     "data": {
      "text/plain": [
       "[<matplotlib.lines.Line2D at 0x1910228e6d0>]"
      ]
     },
     "execution_count": 36,
     "metadata": {},
     "output_type": "execute_result"
    },
    {
     "data": {
      "image/png": "[encoded data removed]",
      "text/plain": [
       "<Figure size 640x480 with 1 Axes>"
      ]
     },
     "metadata": {},
     "output_type": "display_data"
    }
   ],
   "source": [
    "import numpy as np\n",
    "x = 10.0 ** np.arange(21)\n",
    "sp = np.spacing(x)\n",
    "print(\"spacing: \",sp)\n",
    "A = lambda x: 1/x - 1/(x+1)\n",
    "B = lambda x: 1/x*(x+1)\n",
    "risA = A(x)\n",
    "risB = B(x)\n",
    "print(risA, risB)\n",
    "\n",
    "percentuale_errore = abs(risB - risA) / abs(risB)\n",
    "print(\"PERCENTUALE ERRORE:\", percentuale_errore)\n",
    "\n",
    "plt.loglog(risA,percentuale_errore)"
   ]
  },
  {
   "cell_type": "markdown",
   "id": "27155dcd-6580-4e3d-aac9-fa42b717bf70",
   "metadata": {},
   "source": [
    "- **8-**  Risolvere l'equazione $x^2+10^k x+1=0$ con k in range(1,9). \n",
    "\n",
    "- Scrivere un codice Python che calcola le due radici: x1=(-b+sqrt(Delta))/2  e x2=(-b-sqrt(Delta))/2, dove Delta=b^2-4ac,  per tutti i valori di k in range(1,9)\n",
    "\n",
    "- Calcolare l'errore relativo della soluzione numerica x1 rispetto alla soluzione in aritmetica reale, che per valori di k alti è  uguale a $10^{-k}$, altrimenti è una sua approssimazione. \n",
    "\n",
    "- Visualizzare l'errore relativo per ogni valore di k.\n",
    "\n",
    "- Proporre un algoritmo aleternativo per il calcolo di una delle due soluzioni, che fornisca errore relativo inferiore."
   ]
  },
  {
   "cell_type": "code",
   "execution_count": 39,
   "id": "41e5aa94-4b26-4973-a9ff-da0c6ebf6ebd",
   "metadata": {
    "tags": []
   },
   "outputs": [
    {
     "name": "stdout",
     "output_type": "stream",
     "text": [
      "[[-1.01020514e-01 -9.89897949e+00]\n",
      " [-1.00010002e-02 -9.99899990e+01]\n",
      " [-1.00000100e-03 -9.99999000e+02]\n",
      " [-1.00000001e-04 -9.99999990e+03]\n",
      " [-1.00000034e-05 -1.00000000e+05]\n",
      " [-1.00000761e-06 -1.00000000e+06]\n",
      " [-9.96515155e-08 -1.00000000e+07]\n",
      " [-7.45058060e-09 -1.00000000e+08]]\n"
     ]
    }
   ],
   "source": [
    "import math\n",
    "def calc(a,b,c):\n",
    "    delta = b**2 - (4*a*c)\n",
    "    x1 = (-b + math.sqrt(delta)) / 2 * a\n",
    "    x2 = (-b - math.sqrt(delta)) / 2 * a\n",
    "    return (x1,x2)\n",
    "\n",
    "arr = np.array([calc(1,10**x,1) for x in range(1,9)])\n",
    "print(arr)"
   ]
  },
  {
   "cell_type": "markdown",
   "id": "9f6294cc-b0df-40b8-a1f5-450f4e756ffa",
   "metadata": {},
   "source": [
    "- **9.** Scrivere uno script Matlab che fornisca le approssimazioni di $e=\\exp(1)$ ottenute con la formula\n",
    "$f(n)=(1/n+1)^n$ per $n=10^k$ e  $k=0, ..., 16$. \n",
    "\n",
    "Visualizzare  un grafico con i valori di $f(n)$ al variare di n ed un grafico con i valori dell'errore relativo (considerando come valore esatto il valore math.exp(1)).  Cosa si osserva? Commentare i risultati ottenuti."
   ]
  },
  {
   "cell_type": "code",
   "execution_count": null,
   "id": "de9f90ae-afca-4294-9acd-05585d601eb7",
   "metadata": {},
   "outputs": [],
   "source": []
  },
  {
   "cell_type": "code",
   "execution_count": null,
   "id": "29588be5-afa3-4df1-8efc-efc3c24c7938",
   "metadata": {},
   "outputs": [],
   "source": []
  }
 ],
 "metadata": {
  "kernelspec": {
   "display_name": "Python 3 (ipykernel)",
   "language": "python",
   "name": "python3"
  },
  "language_info": {
   "codemirror_mode": {
    "name": "ipython",
    "version": 3
   },
   "file_extension": ".py",
   "mimetype": "text/x-python",
   "name": "python",
   "nbconvert_exporter": "python",
   "pygments_lexer": "ipython3",
   "version": "3.11.3"
  }
 },
 "nbformat": 4,
 "nbformat_minor": 5
}
