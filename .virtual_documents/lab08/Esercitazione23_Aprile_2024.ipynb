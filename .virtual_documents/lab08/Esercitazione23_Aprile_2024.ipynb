








import numpy as np
import scipy.linalg as spl
import numpy.linalg as npl

x = np.array([1.0,2.0,3.0,4.0,5.0,6.0])
V = np.vander(x, increasing=True)
print(V)
#Calcolo indice di condizionamento, dovrebbe venire mal condizionato siccome Vandermonde è una matrice mal condizionato => K > 10^3

def norm_inf(A):
    somma_righe = [np.sum(np.abs(row)) for row in A]
    return max(somma_righe)
norm_V = norm_inf(V)
#Calcolo dell'inversa attraverso fattorizazione LU

norm_inv_V = norm_inf(npl.inv(V))
K = norm_V * norm_inv_V
print("L'indice di condizionamento è", K)
print("Numpy calcola come indice di condizionamento:", npl.cond(V,np.inf))
#K = numpy.linalg.cond(A,np.inf) è l'indice di condizionamento in norma infinito

#Costruisco il vettore di termine noto vale che Ax=b con x = [1,1,1,1,1,1]
b = np.sum(V,axis=1).reshape(6,1)
print("I termini noti costruiti sono:\n", b)
x = spl.solve(V,b)
print("Il risultato è:\n",x)


delta_b = b.copy()
delta_b[0] = delta_b[0] * 0.025
errore_dati = npl.norm(delta_b - b, np.inf) / npl.norm(b, np.inf)
print("L'errore dati è:\n", errore_dati)
#scipy.linalg.solve(A,b) prende in input la matrice A ed il termine noto b per risolvere il sistema

xp = spl.solve(V,delta_b)
errore_soluzione = npl.norm(xp-x,np.inf)/npl.norm(x, np.inf)
print("Nuova soluzione perturbata:\n",xp)
print("L'errore sulla soluzione è:\n",errore_soluzione/100)





A = np.array([
    [6, 63, 662.2],
    [63, 662.2, 6967.8],
    [662.2, 6967.8, 73393.5664]
])
b = np.array([1.1, 2.33, 1.7]).reshape(3,1)
x = npl.solve(A,b)
dA = A.copy()
dA[0][0] = dA[0][0]*0.01

xp = npl.solve(dA, b)
errore_soluzione = npl.norm(xp-x,np.inf)/npl.norm(x, np.inf)
print("Nuova soluzione perturbata:\n",xp)
print("L'errore sulla soluzione è:\n",errore_soluzione/100)









A = spl.hilbert(4)
b = np.array([1,1,1,1]).reshape(4,1)
x = npl.solve(A,b)
print(x)
db = 0.01 * np.array([1.0,-1.0,1.0,-1.0]).reshape(4,1)
b = b + db
xp = npl.solve(A,b)
print("Nuovo risultato perturbato:\n",xp)
errore_soluzione = npl.norm(xp-x,np.inf)/npl.norm(x, np.inf)
print("Errore sui dati:\n",errore_soluzione)

K = npl.norm(A, np.inf) * npl.norm(npl.inv(A), np.inf)
print(K)








import numpy as np
import scipy as sp
from scipy.linalg import lu
A=np.array([[2,1],[3,4]])
PT,L,U=lu(A)  #Restituisce in output la trasposta della matrice di Permutazione
P=PT.T.copy()   #P è la matrice di permutazione
print("A=",A)
print("L=",L)
print("U=",U)
print("P=",P)
#LU è la fattorizzazione di P*A (terorema 2)
A1=P@A # equivale al prodotto matrice x matrice np.dot(P,A)
A1Fatt=L@U # equivale a np.dot(L,U)
print("Matrice P*A \n", A1)
print("Matrice ottenuta moltipicando Le ed U \n",A1Fatt)






from scipy.linalg import cholesky
A=np.array([[2,1,3],[1,5,7],[3,7,12]])
print(A)


L=cholesky(A,lower=True)
print(L)
A1=L@L.T
print("A1=\n",A1)





from scipy.linalg import qr
A=np.array([[2,1,3],[1,5,7],[3,7,12]])
Q,R=qr(A)
print("Q=",Q)
print("R=",R)
A1=Q@R
print(A1)





from SolveTriangular import *

def LUsolve(P, L, U, b):
    y,flag=Lsolve(L,P@b)
    if flag == 1:
        return None, flag
    x,flag=Usolve(U,y)
    return x, flag

A = np.array([[2, 5, 8, 7], [5, 2, 2, 8], [7, 5, 6, 6], [5, 4, 4, 8]])
b = np.sum(A,axis=1).reshape(4,1)
PT,L,U = spl.lu(A)
P = PT.T.copy()
x, flag = LUsolve(P,L,U,b)
print("Il risultato è x:\n",x)





def solvensis(A,B):
    PT,L,U = spl.lu(A)
    P = PT.T.copy()
    X = np.zeros((3,3))
    print(X)
    for i in range(0, A.shape[0]):
        ris = LUsolve(P, L, U, B[:,i])
        A[:,i] = ris[0].ravel()
    return A, P, U

B = Id = np.array([[1,0,0], [0,1,0], [0,0,1] ])
A = np.array([
    [3.0, 5.0, 7.0],
    [2.0, 3.0, 4.0],
    [5.0, 9.0, 11.0]
])
X, P, U = solvensis(A,B)
invA = spl.inv(A)
print(X)





#det(A) = (-1)^s * produttoria da j=1 a n di ujj
print(P)
print(U)
s = 1

det = np.prod(np.diag(U)) * ((-1)**s) # s è il numero di di righe scanmbiate nella matrice di permutazione P
print("Il determinante di A è:\n", det)
A = np.array([
    [3.0, 5.0, 7.0],
    [2.0, 3.0, 4.0],
    [5.0, 9.0, 11.0]
])
print("Il determinante di numpy è\n", npl.det(A) )





import matplotlib.pyplot as plt

def Hankel(n):
    A=np.zeros((n,n),dtype=float)
    for i in range(0,n):
        for k in range(i+1-n,i+1):
            if k>0:
                A[i,n-1+k-i]=2.0**(k+1)
            else:
                A[i,n-1+k-i]=2.0**(1/(2-k-1))
    return A
errors_lu = []
errors_qr = []



n = 4
x = np.full((n, 1), 1.0).reshape(n, 1)
A = Hankel(n)
b = np.sum(A, axis=1)

Q, R = spl.qr(A)
if spl.det(A) != 0:
    xqr = spl.solve(R,Q.transpose().copy()@b)
    errore_qr = npl.norm(x - xqr, 2) / npl.norm(x, 2)
    print("Risoluzione QR 1:\n",xqr)
    print("Errore qr: ", errore_qr)
    errors_qr.append(errore_qr)
    
PT, L, U = spl.lu(A)
P = PT.T.copy()
xlu, flag = LUsolve(P, L, U, b)
print("Risoluzione LU 1:\n",xlu.reshape(1,n))
errore_lu = npl.norm(x - xlu, 2) / npl.norm(x, 2)
print("Errore lu: ", errore_lu)
errors_lu.append(errore_lu)


n = 6
x = np.full((n, 1), 1.0).reshape(n, 1)
A = Hankel(n)
b = np.sum(A, axis=1)

Q, R = spl.qr(A)
if spl.det(A) != 0:
    xqr = spl.solve(R,Q.transpose().copy()@b)
    errore_qr = npl.norm(x - xqr, 2) / npl.norm(x, 2)
    print("Risoluzione QR 1:\n",xqr)
    print("Errore qr: ", errore_qr)
    errors_qr.append(errore_qr)
    
PT, L, U = spl.lu(A)
P = PT.T.copy()
xlu, flag = LUsolve(P, L, U, b)
print("Risoluzione LU 1:\n",xlu.reshape(1,n))
errore_lu = npl.norm(x - xlu, 2) / npl.norm(x, 2)
print("Errore lu: ", errore_lu)
errors_lu.append(errore_lu)


n = 40
x = np.full((n, 1), 1.0).reshape(n, 1)
A = Hankel(n)
b = np.sum(A, axis=1)

Q, R = spl.qr(A)
if spl.det(A) != 0:
    xqr = spl.solve(R,Q.transpose().copy()@b)
    errore_qr = npl.norm(x - xqr, 2) / npl.norm(x, 2)
    print("Risoluzione QR 1:\n",xqr)
    print("Errore qr: ", errore_qr)
    errors_qr.append(errore_qr)
    
PT, L, U = spl.lu(A)
P = PT.T.copy()
xlu, flag = LUsolve(P, L, U, b)
print("Risoluzione LU 1:\n",xlu.reshape(1,n))
errore_lu = npl.norm(x - xlu, 2) / npl.norm(x, 2)
print("Errore lu: ", errore_lu)
errors_lu.append(errore_lu)


print(errors_lu, errors_qr)
plt.semilogy(range(3),errors_lu,'-oy')
plt.semilogy(range(3),errors_qr,'-oy')





def matrix(n):
    A=np.zeros((n,n),dtype=float)
    for i in range(0,n):
        for k in range(0,n):
            if i == k or k == n:
                A[i,k]= 1
            elif i > k:
                A[i,k]= -1
            else:
                A[i,k]= 0
    return A
errors_lu = []
errors_qr = []


n = 48
x = np.full((n, 1), 1.0).reshape(n, 1)
A = matrix(n)
b = np.sum(A, axis=1)

Q, R = spl.qr(A)
if spl.det(A) != 0:
    xqr = spl.solve(R,Q.transpose().copy()@b)
    errore_qr = npl.norm(x - xqr, 2) / npl.norm(x, 2)
    print("Risoluzione QR 1:\n",xqr)
    print("Errore qr: ", errore_qr)
    errors_qr.append(errore_qr)
    
PT, L, U = spl.lu(A)
P = PT.T.copy()
xlu, flag = LUsolve(P, L, U, b)
print("Risoluzione LU 1:\n",xlu.reshape(1,n))
errore_lu = npl.norm(x - xlu, 2) / npl.norm(x, 2)
print("Errore lu: ", errore_lu)
errors_lu.append(errore_lu)


n = 2
x = np.full((n, 1), 1.0).reshape(n, 1)
A = matrix(n)
b = np.sum(A, axis=1)

Q, R = spl.qr(A)
if spl.det(A) != 0:
    xqr = spl.solve(R,Q.transpose().copy()@b)
    errore_qr = npl.norm(x - xqr, 2) / npl.norm(x, 2)
    print("Risoluzione QR 1:\n",xqr)
    print("Errore qr: ", errore_qr)
    errors_qr.append(errore_qr)
    
PT, L, U = spl.lu(A)
P = PT.T.copy()
xlu, flag = LUsolve(P, L, U, b)
print("Risoluzione LU 1:\n",xlu.reshape(1,n))
errore_lu = npl.norm(x - xlu, 2) / npl.norm(x, 2)
print("Errore lu: ", errore_lu)
errors_lu.append(errore_lu)


n = 58
x = np.full((n, 1), 1.0).reshape(n, 1)
A = matrix(n)
b = np.sum(A, axis=1)

Q, R = spl.qr(A)
if spl.det(A) != 0:
    xqr = spl.solve(R,Q.transpose().copy()@b)
    errore_qr = npl.norm(x - xqr, 2) / npl.norm(x, 2)
    print("Risoluzione QR 1:\n",xqr)
    print("Errore qr: ", errore_qr)
    errors_qr.append(errore_qr)
    
PT, L, U = spl.lu(A)
P = PT.T.copy()
xlu, flag = LUsolve(P, L, U, b)
print("Risoluzione LU 1:\n",xlu.reshape(1,n))
errore_lu = npl.norm(x - xlu, 2) / npl.norm(x, 2)
print("Errore lu: ", errore_lu)
errors_lu.append(errore_lu)


print(errors_lu, errors_qr)
plt.semilogy(range(3),errors_lu,'-oy')
plt.semilogy(range(3),errors_qr,'-oy')

#Si nota dal grafico che per queste matrici l'errore relativo su LU è sempre zero, inoltre più è grande la matrice e maggiore è l'errore





















